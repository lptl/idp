{
 "cells": [
  {
   "cell_type": "code",
   "execution_count": 2,
   "metadata": {},
   "outputs": [],
   "source": [
    "import os\n",
    "import json\n",
    "import pandas as pd\n",
    "import matplotlib.pyplot as plt\n",
    "from matplotlib import rcParams\n",
    "import numpy as np\n",
    "#from wordcloud import WordCloud\n",
    "\n",
    "\n",
    "# print(matplotlib.get_cachedir())\n",
    "rcParams['font.family'] = 'sans-serif'\n",
    "rcParams['font.sans-serif'] = ['Lucida Sans']\n",
    "rcParams['font.size'] = 10"
   ]
  },
  {
   "cell_type": "code",
   "execution_count": null,
   "metadata": {},
   "outputs": [],
   "source": []
  },
  {
   "cell_type": "code",
   "execution_count": null,
   "metadata": {},
   "outputs": [],
   "source": []
  },
  {
   "cell_type": "code",
   "execution_count": 3,
   "metadata": {},
   "outputs": [
    {
     "ename": "IsADirectoryError",
     "evalue": "[Errno 21] Is a directory: '/Users/chaosefat/TUM/IDP/Visualization/1000/json/.ipynb_checkpoints'",
     "output_type": "error",
     "traceback": [
      "\u001b[0;31m---------------------------------------------------------------------------\u001b[0m",
      "\u001b[0;31mIsADirectoryError\u001b[0m                         Traceback (most recent call last)",
      "\u001b[0;32m<ipython-input-3-483bb44221d2>\u001b[0m in \u001b[0;36m<module>\u001b[0;34m\u001b[0m\n\u001b[1;32m      3\u001b[0m \u001b[0mi\u001b[0m \u001b[0;34m=\u001b[0m \u001b[0;36m0\u001b[0m\u001b[0;34m\u001b[0m\u001b[0;34m\u001b[0m\u001b[0m\n\u001b[1;32m      4\u001b[0m \u001b[0;32mfor\u001b[0m \u001b[0mjson_file_path\u001b[0m \u001b[0;32min\u001b[0m \u001b[0mos\u001b[0m\u001b[0;34m.\u001b[0m\u001b[0mlistdir\u001b[0m\u001b[0;34m(\u001b[0m\u001b[0mjson_directory\u001b[0m\u001b[0;34m)\u001b[0m\u001b[0;34m:\u001b[0m\u001b[0;34m\u001b[0m\u001b[0;34m\u001b[0m\u001b[0m\n\u001b[0;32m----> 5\u001b[0;31m     json_file = open(json_directory + json_file_path,\n\u001b[0m\u001b[1;32m      6\u001b[0m                      'r', encoding='utf-8')\n\u001b[1;32m      7\u001b[0m     \u001b[0mcontent\u001b[0m \u001b[0;34m=\u001b[0m \u001b[0mjson\u001b[0m\u001b[0;34m.\u001b[0m\u001b[0mload\u001b[0m\u001b[0;34m(\u001b[0m\u001b[0mjson_file\u001b[0m\u001b[0;34m)\u001b[0m\u001b[0;34m\u001b[0m\u001b[0;34m\u001b[0m\u001b[0m\n",
      "\u001b[0;31mIsADirectoryError\u001b[0m: [Errno 21] Is a directory: '/Users/chaosefat/TUM/IDP/Visualization/1000/json/.ipynb_checkpoints'"
     ]
    }
   ],
   "source": [
    "json_directory = '/Users/chaosefat/TUM/IDP/Visualization/1000/json/'\n",
    "openness_score_list = list()\n",
    "i = 0\n",
    "for json_file_path in os.listdir(json_directory):\n",
    "    json_file = open(json_directory + json_file_path,\n",
    "                     'r', encoding='utf-8')\n",
    "    content = json.load(json_file)\n",
    "    if \"results\" in content:\n",
    "        \n",
    "        content2 = content['results'][0]\n",
    "        \n",
    "        if \"personality\" in content2:\n",
    "            \n",
    "            openness_score = content2['personality']['openness']\n",
    "            openness_score_list.append(openness_score)\n",
    "            \n",
    "        else:\n",
    "            continue\n",
    "        \n",
    "    else:\n",
    "        continue\n",
    "    \n",
    "\n",
    "\n",
    "    "
   ]
  },
  {
   "cell_type": "code",
   "execution_count": 4,
   "metadata": {},
   "outputs": [],
   "source": [
    "#score_list"
   ]
  },
  {
   "cell_type": "code",
   "execution_count": 5,
   "metadata": {},
   "outputs": [
    {
     "name": "stderr",
     "output_type": "stream",
     "text": [
      "findfont: Font family ['sans-serif'] not found. Falling back to DejaVu Sans.\n",
      "findfont: Font family ['sans-serif'] not found. Falling back to DejaVu Sans.\n"
     ]
    },
    {
     "data": {
      "image/png": "[encoded data removed]",
      "text/plain": [
       "<Figure size 432x288 with 1 Axes>"
      ]
     },
     "metadata": {
      "needs_background": "light"
     },
     "output_type": "display_data"
    }
   ],
   "source": [
    "plt.boxplot(openness_score_list)\n",
    "plt.title('Box plot for the attribute Openness measured using Receptivi')\n",
    "plt.show()"
   ]
  },
  {
   "cell_type": "code",
   "execution_count": 6,
   "metadata": {},
   "outputs": [
    {
     "name": "stdout",
     "output_type": "stream",
     "text": [
      "Median = 49.31116586063385\n",
      "Mean = 49.1337402876079\n",
      "Q1 = 45.468091932009855\n",
      "Q2 = 52.56821642235846\n",
      "IQR = 7.100124490348605\n"
     ]
    }
   ],
   "source": [
    "data = openness_score_list\n",
    "mean = np.mean(data)\n",
    "median = np.median(data)\n",
    "\n",
    "Q1 = np.percentile(data, 25, interpolation = 'midpoint')\n",
    "  \n",
    "# Third quartile (Q3)\n",
    "Q3 = np.percentile(data, 75, interpolation = 'midpoint')\n",
    "  \n",
    "# Interquaritle range (IQR)\n",
    "IQR = Q3 - Q1\n",
    "\n",
    "print(\"Median = \"+str(median))\n",
    "print(\"Mean = \"+str(mean))\n",
    "print(\"Q1 = \" + str(Q1))\n",
    "print(\"Q2 = \" + str(Q3))\n",
    "print(\"IQR = \" + str(IQR))"
   ]
  },
  {
   "cell_type": "code",
   "execution_count": 7,
   "metadata": {},
   "outputs": [
    {
     "ename": "IsADirectoryError",
     "evalue": "[Errno 21] Is a directory: '/Users/chaosefat/TUM/IDP/Visualization/1000/json/.ipynb_checkpoints'",
     "output_type": "error",
     "traceback": [
      "\u001b[0;31m---------------------------------------------------------------------------\u001b[0m",
      "\u001b[0;31mIsADirectoryError\u001b[0m                         Traceback (most recent call last)",
      "\u001b[0;32m<ipython-input-7-30a3d84fcb37>\u001b[0m in \u001b[0;36m<module>\u001b[0;34m\u001b[0m\n\u001b[1;32m      2\u001b[0m \u001b[0mi\u001b[0m \u001b[0;34m=\u001b[0m \u001b[0;36m0\u001b[0m\u001b[0;34m\u001b[0m\u001b[0;34m\u001b[0m\u001b[0m\n\u001b[1;32m      3\u001b[0m \u001b[0;32mfor\u001b[0m \u001b[0mjson_file_path\u001b[0m \u001b[0;32min\u001b[0m \u001b[0mos\u001b[0m\u001b[0;34m.\u001b[0m\u001b[0mlistdir\u001b[0m\u001b[0;34m(\u001b[0m\u001b[0mjson_directory\u001b[0m\u001b[0;34m)\u001b[0m\u001b[0;34m:\u001b[0m\u001b[0;34m\u001b[0m\u001b[0;34m\u001b[0m\u001b[0m\n\u001b[0;32m----> 4\u001b[0;31m     json_file = open(json_directory + json_file_path,\n\u001b[0m\u001b[1;32m      5\u001b[0m                      'r', encoding='utf-8')\n\u001b[1;32m      6\u001b[0m     \u001b[0mcontent\u001b[0m \u001b[0;34m=\u001b[0m \u001b[0mjson\u001b[0m\u001b[0;34m.\u001b[0m\u001b[0mload\u001b[0m\u001b[0;34m(\u001b[0m\u001b[0mjson_file\u001b[0m\u001b[0;34m)\u001b[0m\u001b[0;34m\u001b[0m\u001b[0;34m\u001b[0m\u001b[0m\n",
      "\u001b[0;31mIsADirectoryError\u001b[0m: [Errno 21] Is a directory: '/Users/chaosefat/TUM/IDP/Visualization/1000/json/.ipynb_checkpoints'"
     ]
    }
   ],
   "source": [
    "conscientiousness_score_list = list()\n",
    "i = 0\n",
    "for json_file_path in os.listdir(json_directory):\n",
    "    json_file = open(json_directory + json_file_path,\n",
    "                     'r', encoding='utf-8')\n",
    "    content = json.load(json_file)\n",
    "    if \"results\" in content:\n",
    "        \n",
    "        content2 = content['results'][0]\n",
    "        \n",
    "        if \"personality\" in content2:\n",
    "            \n",
    "            conscientiousness_score = content2['personality']['conscientiousness']\n",
    "            conscientiousness_score_list.append(conscientiousness_score)\n",
    "            \n",
    "        else:\n",
    "            continue\n",
    "        \n",
    "    else:\n",
    "        continue"
   ]
  },
  {
   "cell_type": "code",
   "execution_count": 8,
   "metadata": {},
   "outputs": [
    {
     "data": {
      "image/png": "[encoded data removed]",
      "text/plain": [
       "<Figure size 432x288 with 1 Axes>"
      ]
     },
     "metadata": {
      "needs_background": "light"
     },
     "output_type": "display_data"
    }
   ],
   "source": [
    "plt.boxplot(conscientiousness_score_list)\n",
    "plt.title('Box plot for the attribute Conscientiousness measured using Receptivi')\n",
    "plt.show()"
   ]
  },
  {
   "cell_type": "code",
   "execution_count": 9,
   "metadata": {},
   "outputs": [
    {
     "name": "stdout",
     "output_type": "stream",
     "text": [
      "Median = 52.403924303207404\n",
      "Mean = 52.114307023485544\n",
      "Q1 = 47.26026806748541\n",
      "Q2 = 57.80563559537171\n",
      "IQR = 10.545367527886299\n"
     ]
    }
   ],
   "source": [
    "data = conscientiousness_score_list\n",
    "mean = np.mean(data)\n",
    "median = np.median(data)\n",
    "\n",
    "Q1 = np.percentile(data, 25, interpolation = 'midpoint')\n",
    "  \n",
    "# Third quartile (Q3)\n",
    "Q3 = np.percentile(data, 75, interpolation = 'midpoint')\n",
    "  \n",
    "# Interquaritle range (IQR)\n",
    "IQR = Q3 - Q1\n",
    "\n",
    "print(\"Median = \"+str(median))\n",
    "print(\"Mean = \"+str(mean))\n",
    "print(\"Q1 = \" + str(Q1))\n",
    "print(\"Q2 = \" + str(Q3))\n",
    "print(\"IQR = \" + str(IQR))"
   ]
  },
  {
   "cell_type": "code",
   "execution_count": 10,
   "metadata": {},
   "outputs": [
    {
     "ename": "IsADirectoryError",
     "evalue": "[Errno 21] Is a directory: '/Users/chaosefat/TUM/IDP/Visualization/1000/json/.ipynb_checkpoints'",
     "output_type": "error",
     "traceback": [
      "\u001b[0;31m---------------------------------------------------------------------------\u001b[0m",
      "\u001b[0;31mIsADirectoryError\u001b[0m                         Traceback (most recent call last)",
      "\u001b[0;32m<ipython-input-10-bed21c6b4925>\u001b[0m in \u001b[0;36m<module>\u001b[0;34m\u001b[0m\n\u001b[1;32m      2\u001b[0m \u001b[0mi\u001b[0m \u001b[0;34m=\u001b[0m \u001b[0;36m0\u001b[0m\u001b[0;34m\u001b[0m\u001b[0;34m\u001b[0m\u001b[0m\n\u001b[1;32m      3\u001b[0m \u001b[0;32mfor\u001b[0m \u001b[0mjson_file_path\u001b[0m \u001b[0;32min\u001b[0m \u001b[0mos\u001b[0m\u001b[0;34m.\u001b[0m\u001b[0mlistdir\u001b[0m\u001b[0;34m(\u001b[0m\u001b[0mjson_directory\u001b[0m\u001b[0;34m)\u001b[0m\u001b[0;34m:\u001b[0m\u001b[0;34m\u001b[0m\u001b[0;34m\u001b[0m\u001b[0m\n\u001b[0;32m----> 4\u001b[0;31m     json_file = open(json_directory + json_file_path,\n\u001b[0m\u001b[1;32m      5\u001b[0m                      'r', encoding='utf-8')\n\u001b[1;32m      6\u001b[0m     \u001b[0mcontent\u001b[0m \u001b[0;34m=\u001b[0m \u001b[0mjson\u001b[0m\u001b[0;34m.\u001b[0m\u001b[0mload\u001b[0m\u001b[0;34m(\u001b[0m\u001b[0mjson_file\u001b[0m\u001b[0;34m)\u001b[0m\u001b[0;34m\u001b[0m\u001b[0;34m\u001b[0m\u001b[0m\n",
      "\u001b[0;31mIsADirectoryError\u001b[0m: [Errno 21] Is a directory: '/Users/chaosefat/TUM/IDP/Visualization/1000/json/.ipynb_checkpoints'"
     ]
    }
   ],
   "source": [
    "extraversion_score_list = list()\n",
    "i = 0\n",
    "for json_file_path in os.listdir(json_directory):\n",
    "    json_file = open(json_directory + json_file_path,\n",
    "                     'r', encoding='utf-8')\n",
    "    content = json.load(json_file)\n",
    "    if \"results\" in content:\n",
    "        \n",
    "        content2 = content['results'][0]\n",
    "        \n",
    "        if \"personality\" in content2:\n",
    "            \n",
    "            extraversion_score = content2['personality']['extraversion']\n",
    "            extraversion_score_list.append(extraversion_score)\n",
    "            \n",
    "        else:\n",
    "            continue\n",
    "        \n",
    "    else:\n",
    "        continue"
   ]
  },
  {
   "cell_type": "code",
   "execution_count": 11,
   "metadata": {},
   "outputs": [
    {
     "data": {
      "image/png": "[encoded data removed]",
      "text/plain": [
       "<Figure size 432x288 with 1 Axes>"
      ]
     },
     "metadata": {
      "needs_background": "light"
     },
     "output_type": "display_data"
    }
   ],
   "source": [
    "plt.boxplot(extraversion_score_list)\n",
    "plt.title('Box plot for the attribute Extraversion measured using Receptivi')\n",
    "plt.show()"
   ]
  },
  {
   "cell_type": "code",
   "execution_count": 12,
   "metadata": {},
   "outputs": [
    {
     "name": "stdout",
     "output_type": "stream",
     "text": [
      "Median = 59.40008028606449\n",
      "Mean = 59.18814513158625\n",
      "Q1 = 52.5447615441756\n",
      "Q2 = 66.66745955305711\n",
      "IQR = 14.122698008881514\n"
     ]
    }
   ],
   "source": [
    "data = extraversion_score_list\n",
    "mean = np.mean(data)\n",
    "median = np.median(data)\n",
    "\n",
    "Q1 = np.percentile(data, 25, interpolation = 'midpoint')\n",
    "  \n",
    "# Third quartile (Q3)\n",
    "Q3 = np.percentile(data, 75, interpolation = 'midpoint')\n",
    "  \n",
    "# Interquaritle range (IQR)\n",
    "IQR = Q3 - Q1\n",
    "\n",
    "print(\"Median = \"+str(median))\n",
    "print(\"Mean = \"+str(mean))\n",
    "print(\"Q1 = \" + str(Q1))\n",
    "print(\"Q2 = \" + str(Q3))\n",
    "print(\"IQR = \" + str(IQR))"
   ]
  },
  {
   "cell_type": "code",
   "execution_count": 13,
   "metadata": {},
   "outputs": [
    {
     "ename": "IsADirectoryError",
     "evalue": "[Errno 21] Is a directory: '/Users/chaosefat/TUM/IDP/Visualization/1000/json/.ipynb_checkpoints'",
     "output_type": "error",
     "traceback": [
      "\u001b[0;31m---------------------------------------------------------------------------\u001b[0m",
      "\u001b[0;31mIsADirectoryError\u001b[0m                         Traceback (most recent call last)",
      "\u001b[0;32m<ipython-input-13-47f4443c5105>\u001b[0m in \u001b[0;36m<module>\u001b[0;34m\u001b[0m\n\u001b[1;32m      2\u001b[0m \u001b[0mi\u001b[0m \u001b[0;34m=\u001b[0m \u001b[0;36m0\u001b[0m\u001b[0;34m\u001b[0m\u001b[0;34m\u001b[0m\u001b[0m\n\u001b[1;32m      3\u001b[0m \u001b[0;32mfor\u001b[0m \u001b[0mjson_file_path\u001b[0m \u001b[0;32min\u001b[0m \u001b[0mos\u001b[0m\u001b[0;34m.\u001b[0m\u001b[0mlistdir\u001b[0m\u001b[0;34m(\u001b[0m\u001b[0mjson_directory\u001b[0m\u001b[0;34m)\u001b[0m\u001b[0;34m:\u001b[0m\u001b[0;34m\u001b[0m\u001b[0;34m\u001b[0m\u001b[0m\n\u001b[0;32m----> 4\u001b[0;31m     json_file = open(json_directory + json_file_path,\n\u001b[0m\u001b[1;32m      5\u001b[0m                      'r', encoding='utf-8')\n\u001b[1;32m      6\u001b[0m     \u001b[0mcontent\u001b[0m \u001b[0;34m=\u001b[0m \u001b[0mjson\u001b[0m\u001b[0;34m.\u001b[0m\u001b[0mload\u001b[0m\u001b[0;34m(\u001b[0m\u001b[0mjson_file\u001b[0m\u001b[0;34m)\u001b[0m\u001b[0;34m\u001b[0m\u001b[0;34m\u001b[0m\u001b[0m\n",
      "\u001b[0;31mIsADirectoryError\u001b[0m: [Errno 21] Is a directory: '/Users/chaosefat/TUM/IDP/Visualization/1000/json/.ipynb_checkpoints'"
     ]
    }
   ],
   "source": [
    "\n",
    "agreeableness_score_list = list()\n",
    "i = 0\n",
    "for json_file_path in os.listdir(json_directory):\n",
    "    json_file = open(json_directory + json_file_path,\n",
    "                     'r', encoding='utf-8')\n",
    "    content = json.load(json_file)\n",
    "    if \"results\" in content:\n",
    "        \n",
    "        content2 = content['results'][0]\n",
    "        \n",
    "        if \"personality\" in content2:\n",
    "            \n",
    "            agreeableness_score = content2['personality']['agreeableness']\n",
    "            agreeableness_score_list.append(agreeableness_score)\n",
    "            \n",
    "        else:\n",
    "            continue\n",
    "        \n",
    "    else:\n",
    "        continue"
   ]
  },
  {
   "cell_type": "code",
   "execution_count": 14,
   "metadata": {},
   "outputs": [
    {
     "data": {
      "image/png": "[encoded data removed]",
      "text/plain": [
       "<Figure size 432x288 with 1 Axes>"
      ]
     },
     "metadata": {
      "needs_background": "light"
     },
     "output_type": "display_data"
    }
   ],
   "source": [
    "plt.boxplot(agreeableness_score_list)\n",
    "plt.title('Box plot for the attribute Agreeableness measured using Receptivi')\n",
    "plt.show()"
   ]
  },
  {
   "cell_type": "code",
   "execution_count": 15,
   "metadata": {},
   "outputs": [
    {
     "name": "stdout",
     "output_type": "stream",
     "text": [
      "Median = 54.41760821839169\n",
      "Mean = 53.584563709838626\n",
      "Q1 = 47.2396705163115\n",
      "Q2 = 60.01339961768376\n",
      "IQR = 12.773729101372261\n"
     ]
    }
   ],
   "source": [
    "data = agreeableness_score_list\n",
    "mean = np.mean(data)\n",
    "median = np.median(data)\n",
    "\n",
    "Q1 = np.percentile(data, 25, interpolation = 'midpoint')\n",
    "  \n",
    "# Third quartile (Q3)\n",
    "Q3 = np.percentile(data, 75, interpolation = 'midpoint')\n",
    "  \n",
    "# Interquaritle range (IQR)\n",
    "IQR = Q3 - Q1\n",
    "\n",
    "print(\"Median = \"+str(median))\n",
    "print(\"Mean = \"+str(mean))\n",
    "print(\"Q1 = \" + str(Q1))\n",
    "print(\"Q2 = \" + str(Q3))\n",
    "print(\"IQR = \" + str(IQR))"
   ]
  },
  {
   "cell_type": "code",
   "execution_count": 16,
   "metadata": {},
   "outputs": [
    {
     "ename": "IsADirectoryError",
     "evalue": "[Errno 21] Is a directory: '/Users/chaosefat/TUM/IDP/Visualization/1000/json/.ipynb_checkpoints'",
     "output_type": "error",
     "traceback": [
      "\u001b[0;31m---------------------------------------------------------------------------\u001b[0m",
      "\u001b[0;31mIsADirectoryError\u001b[0m                         Traceback (most recent call last)",
      "\u001b[0;32m<ipython-input-16-1a05fa1b6afe>\u001b[0m in \u001b[0;36m<module>\u001b[0;34m\u001b[0m\n\u001b[1;32m      3\u001b[0m \u001b[0mi\u001b[0m \u001b[0;34m=\u001b[0m \u001b[0;36m0\u001b[0m\u001b[0;34m\u001b[0m\u001b[0;34m\u001b[0m\u001b[0m\n\u001b[1;32m      4\u001b[0m \u001b[0;32mfor\u001b[0m \u001b[0mjson_file_path\u001b[0m \u001b[0;32min\u001b[0m \u001b[0mos\u001b[0m\u001b[0;34m.\u001b[0m\u001b[0mlistdir\u001b[0m\u001b[0;34m(\u001b[0m\u001b[0mjson_directory\u001b[0m\u001b[0;34m)\u001b[0m\u001b[0;34m:\u001b[0m\u001b[0;34m\u001b[0m\u001b[0;34m\u001b[0m\u001b[0m\n\u001b[0;32m----> 5\u001b[0;31m     json_file = open(json_directory + json_file_path,\n\u001b[0m\u001b[1;32m      6\u001b[0m                      'r', encoding='utf-8')\n\u001b[1;32m      7\u001b[0m     \u001b[0mcontent\u001b[0m \u001b[0;34m=\u001b[0m \u001b[0mjson\u001b[0m\u001b[0;34m.\u001b[0m\u001b[0mload\u001b[0m\u001b[0;34m(\u001b[0m\u001b[0mjson_file\u001b[0m\u001b[0;34m)\u001b[0m\u001b[0;34m\u001b[0m\u001b[0;34m\u001b[0m\u001b[0m\n",
      "\u001b[0;31mIsADirectoryError\u001b[0m: [Errno 21] Is a directory: '/Users/chaosefat/TUM/IDP/Visualization/1000/json/.ipynb_checkpoints'"
     ]
    }
   ],
   "source": [
    "#neuroticism\n",
    "neuroticism_score_list = list()\n",
    "i = 0\n",
    "for json_file_path in os.listdir(json_directory):\n",
    "    json_file = open(json_directory + json_file_path,\n",
    "                     'r', encoding='utf-8')\n",
    "    content = json.load(json_file)\n",
    "    if \"results\" in content:\n",
    "        \n",
    "        content2 = content['results'][0]\n",
    "        \n",
    "        if \"personality\" in content2:\n",
    "            \n",
    "            neuroticism_score = content2['personality']['neuroticism']\n",
    "            neuroticism_score_list.append(neuroticism_score)\n",
    "            \n",
    "        else:\n",
    "            continue\n",
    "        \n",
    "    else:\n",
    "        continue"
   ]
  },
  {
   "cell_type": "code",
   "execution_count": 17,
   "metadata": {},
   "outputs": [
    {
     "data": {
      "image/png": "[encoded data removed]",
      "text/plain": [
       "<Figure size 432x288 with 1 Axes>"
      ]
     },
     "metadata": {
      "needs_background": "light"
     },
     "output_type": "display_data"
    }
   ],
   "source": [
    "plt.boxplot(neuroticism_score_list)\n",
    "plt.title('Box plot for the attribute Neuroticism measured using Receptivi')\n",
    "plt.show()"
   ]
  },
  {
   "cell_type": "code",
   "execution_count": 18,
   "metadata": {},
   "outputs": [
    {
     "name": "stdout",
     "output_type": "stream",
     "text": [
      "Median = 37.23799653967007\n",
      "Mean = 37.75245495753218\n",
      "Q1 = 30.2721675940345\n",
      "Q2 = 43.793444529309056\n",
      "IQR = 13.521276935274557\n"
     ]
    }
   ],
   "source": [
    "data = neuroticism_score_list\n",
    "mean = np.mean(data)\n",
    "median = np.median(data)\n",
    "\n",
    "Q1 = np.percentile(data, 25, interpolation = 'midpoint')\n",
    "  \n",
    "# Third quartile (Q3)\n",
    "Q3 = np.percentile(data, 75, interpolation = 'midpoint')\n",
    "  \n",
    "# Interquaritle range (IQR)\n",
    "IQR = Q3 - Q1\n",
    "\n",
    "print(\"Median = \"+str(median))\n",
    "print(\"Mean = \"+str(mean))\n",
    "print(\"Q1 = \" + str(Q1))\n",
    "print(\"Q2 = \" + str(Q3))\n",
    "print(\"IQR = \" + str(IQR))"
   ]
  },
  {
   "cell_type": "code",
   "execution_count": null,
   "metadata": {},
   "outputs": [],
   "source": []
  },
  {
   "cell_type": "code",
   "execution_count": null,
   "metadata": {},
   "outputs": [],
   "source": []
  }
 ],
 "metadata": {
  "kernelspec": {
   "display_name": "Python 3",
   "language": "python",
   "name": "python3"
  },
  "language_info": {
   "codemirror_mode": {
    "name": "ipython",
    "version": 3
   },
   "file_extension": ".py",
   "mimetype": "text/x-python",
   "name": "python",
   "nbconvert_exporter": "python",
   "pygments_lexer": "ipython3",
   "version": "3.8.5"
  }
 },
 "nbformat": 4,
 "nbformat_minor": 4
}

{
 "cells": [
  {
   "cell_type": "code",
   "execution_count": 1,
   "metadata": {},
   "outputs": [],
   "source": [
    "import pandas as pd\n",
    "import numpy as np\n",
    "import matplotlib.pyplot as plt"
   ]
  },
  {
   "cell_type": "code",
   "execution_count": 2,
   "metadata": {},
   "outputs": [
    {
     "name": "stdout",
     "output_type": "stream",
     "text": [
      "Requirement already satisfied: pandasql in /opt/anaconda3/lib/python3.8/site-packages (0.7.3)\n",
      "Requirement already satisfied: numpy in /opt/anaconda3/lib/python3.8/site-packages (from pandasql) (1.20.1)\n",
      "Requirement already satisfied: pandas in /opt/anaconda3/lib/python3.8/site-packages (from pandasql) (1.1.3)\n",
      "Requirement already satisfied: sqlalchemy in /opt/anaconda3/lib/python3.8/site-packages (from pandasql) (1.3.20)\n",
      "Requirement already satisfied: python-dateutil>=2.7.3 in /opt/anaconda3/lib/python3.8/site-packages (from pandas->pandasql) (2.8.1)\n",
      "Requirement already satisfied: pytz>=2017.2 in /opt/anaconda3/lib/python3.8/site-packages (from pandas->pandasql) (2020.1)\n",
      "Requirement already satisfied: six>=1.5 in /opt/anaconda3/lib/python3.8/site-packages (from python-dateutil>=2.7.3->pandas->pandasql) (1.15.0)\n"
     ]
    }
   ],
   "source": [
    "!pip install pandasql"
   ]
  },
  {
   "cell_type": "code",
   "execution_count": 3,
   "metadata": {},
   "outputs": [],
   "source": [
    "from pandasql import sqldf"
   ]
  },
  {
   "cell_type": "code",
   "execution_count": 4,
   "metadata": {},
   "outputs": [],
   "source": [
    "data = pd.read_csv('founders_dataset_IDP.csv')"
   ]
  },
  {
   "cell_type": "code",
   "execution_count": 5,
   "metadata": {},
   "outputs": [
    {
     "data": {
      "text/html": [
       "<div>\n",
       "<style scoped>\n",
       "    .dataframe tbody tr th:only-of-type {\n",
       "        vertical-align: middle;\n",
       "    }\n",
       "\n",
       "    .dataframe tbody tr th {\n",
       "        vertical-align: top;\n",
       "    }\n",
       "\n",
       "    .dataframe thead th {\n",
       "        text-align: right;\n",
       "    }\n",
       "</style>\n",
       "<table border=\"1\" class=\"dataframe\">\n",
       "  <thead>\n",
       "    <tr style=\"text-align: right;\">\n",
       "      <th></th>\n",
       "      <th>Unnamed: 0</th>\n",
       "      <th>CB_company_uuid</th>\n",
       "      <th>legal_name</th>\n",
       "      <th>domain</th>\n",
       "      <th>city</th>\n",
       "      <th>status</th>\n",
       "      <th>category_groups_list</th>\n",
       "      <th>num_funding_rounds</th>\n",
       "      <th>total_funding_usd</th>\n",
       "      <th>total_funding</th>\n",
       "      <th>...</th>\n",
       "      <th>job_type</th>\n",
       "      <th>first_name</th>\n",
       "      <th>last_name</th>\n",
       "      <th>gender</th>\n",
       "      <th>facebook_url</th>\n",
       "      <th>linkedin_url</th>\n",
       "      <th>twitter_url</th>\n",
       "      <th>facebook_url_exists</th>\n",
       "      <th>linkedin_url_exists</th>\n",
       "      <th>twitter_url_exists</th>\n",
       "    </tr>\n",
       "  </thead>\n",
       "  <tbody>\n",
       "    <tr>\n",
       "      <th>0</th>\n",
       "      <td>10</td>\n",
       "      <td>c2d47d05-9e78-de77-084c-dd5171251ff1</td>\n",
       "      <td>Asana, Inc.</td>\n",
       "      <td>asana.com</td>\n",
       "      <td>San Francisco</td>\n",
       "      <td>ipo</td>\n",
       "      <td>Other,Software</td>\n",
       "      <td>13.0</td>\n",
       "      <td>4.532000e+08</td>\n",
       "      <td>4.532000e+08</td>\n",
       "      <td>...</td>\n",
       "      <td>executive</td>\n",
       "      <td>Dustin</td>\n",
       "      <td>Moskovitz</td>\n",
       "      <td>male</td>\n",
       "      <td>http://www.facebook.com/moskov</td>\n",
       "      <td>https://www.linkedin.com/in/dmoskov</td>\n",
       "      <td>http://twitter.com/moskov</td>\n",
       "      <td>1</td>\n",
       "      <td>1</td>\n",
       "      <td>1</td>\n",
       "    </tr>\n",
       "    <tr>\n",
       "      <th>1</th>\n",
       "      <td>31</td>\n",
       "      <td>9921555e-1f0c-9404-6e89-24bc1641085b</td>\n",
       "      <td>Xoom Corporation</td>\n",
       "      <td>xoom.com</td>\n",
       "      <td>San Francisco</td>\n",
       "      <td>acquired</td>\n",
       "      <td>Commerce and Shopping,Financial Services,Payments</td>\n",
       "      <td>7.0</td>\n",
       "      <td>1.043490e+08</td>\n",
       "      <td>1.043490e+08</td>\n",
       "      <td>...</td>\n",
       "      <td>executive</td>\n",
       "      <td>Alan</td>\n",
       "      <td>Braverman</td>\n",
       "      <td>male</td>\n",
       "      <td>http://www.facebook.com/alanbraverman</td>\n",
       "      <td>http://www.linkedin.com/in/alanb</td>\n",
       "      <td>http://twitter.com/alanb42</td>\n",
       "      <td>1</td>\n",
       "      <td>1</td>\n",
       "      <td>1</td>\n",
       "    </tr>\n",
       "    <tr>\n",
       "      <th>2</th>\n",
       "      <td>45</td>\n",
       "      <td>1eb37109-3b93-01a9-177f-fee2cb1bfcdc</td>\n",
       "      <td>Uber Technologies Inc.</td>\n",
       "      <td>uber.com</td>\n",
       "      <td>San Francisco</td>\n",
       "      <td>ipo</td>\n",
       "      <td>Apps,Mobile,Software,Transportation</td>\n",
       "      <td>33.0</td>\n",
       "      <td>2.521245e+10</td>\n",
       "      <td>2.521245e+10</td>\n",
       "      <td>...</td>\n",
       "      <td>executive</td>\n",
       "      <td>Garrett</td>\n",
       "      <td>Camp</td>\n",
       "      <td>male</td>\n",
       "      <td>http://www.facebook.com/garrettcamp</td>\n",
       "      <td>http://www.linkedin.com/in/garrettcamp</td>\n",
       "      <td>https://twitter.com/gc</td>\n",
       "      <td>1</td>\n",
       "      <td>1</td>\n",
       "      <td>1</td>\n",
       "    </tr>\n",
       "    <tr>\n",
       "      <th>3</th>\n",
       "      <td>67</td>\n",
       "      <td>a2e8a0ad-43ff-2039-3784-e53026415bbc</td>\n",
       "      <td>Hatchlearn Inc.</td>\n",
       "      <td>outlearn.com</td>\n",
       "      <td>Boston</td>\n",
       "      <td>closed</td>\n",
       "      <td>Education,Software</td>\n",
       "      <td>3.0</td>\n",
       "      <td>4.049999e+06</td>\n",
       "      <td>4.049999e+06</td>\n",
       "      <td>...</td>\n",
       "      <td>executive</td>\n",
       "      <td>Will</td>\n",
       "      <td>Koffel</td>\n",
       "      <td>male</td>\n",
       "      <td>http://www.facebook.com/wkoffel</td>\n",
       "      <td>http://www.linkedin.com/in/wkoffel</td>\n",
       "      <td>http://twitter.com/wkoffel</td>\n",
       "      <td>1</td>\n",
       "      <td>1</td>\n",
       "      <td>1</td>\n",
       "    </tr>\n",
       "    <tr>\n",
       "      <th>4</th>\n",
       "      <td>78</td>\n",
       "      <td>4cb7db7b-0581-3c51-3ff1-8ae84a0a101e</td>\n",
       "      <td>Barkbox, Inc.</td>\n",
       "      <td>tinyurl.com</td>\n",
       "      <td>New York</td>\n",
       "      <td>ipo</td>\n",
       "      <td>Commerce and Shopping,Community and Lifestyle,...</td>\n",
       "      <td>6.0</td>\n",
       "      <td>2.817250e+08</td>\n",
       "      <td>2.817250e+08</td>\n",
       "      <td>...</td>\n",
       "      <td>executive</td>\n",
       "      <td>Henrik</td>\n",
       "      <td>Werdelin</td>\n",
       "      <td>male</td>\n",
       "      <td>NaN</td>\n",
       "      <td>http://www.linkedin.com/in/werdelin</td>\n",
       "      <td>http://twitter.com/werdelin</td>\n",
       "      <td>0</td>\n",
       "      <td>1</td>\n",
       "      <td>1</td>\n",
       "    </tr>\n",
       "  </tbody>\n",
       "</table>\n",
       "<p>5 rows × 38 columns</p>\n",
       "</div>"
      ],
      "text/plain": [
       "   Unnamed: 0                       CB_company_uuid              legal_name  \\\n",
       "0          10  c2d47d05-9e78-de77-084c-dd5171251ff1             Asana, Inc.   \n",
       "1          31  9921555e-1f0c-9404-6e89-24bc1641085b        Xoom Corporation   \n",
       "2          45  1eb37109-3b93-01a9-177f-fee2cb1bfcdc  Uber Technologies Inc.   \n",
       "3          67  a2e8a0ad-43ff-2039-3784-e53026415bbc         Hatchlearn Inc.   \n",
       "4          78  4cb7db7b-0581-3c51-3ff1-8ae84a0a101e           Barkbox, Inc.   \n",
       "\n",
       "         domain           city    status  \\\n",
       "0     asana.com  San Francisco       ipo   \n",
       "1      xoom.com  San Francisco  acquired   \n",
       "2      uber.com  San Francisco       ipo   \n",
       "3  outlearn.com         Boston    closed   \n",
       "4   tinyurl.com       New York       ipo   \n",
       "\n",
       "                                category_groups_list  num_funding_rounds  \\\n",
       "0                                     Other,Software                13.0   \n",
       "1  Commerce and Shopping,Financial Services,Payments                 7.0   \n",
       "2                Apps,Mobile,Software,Transportation                33.0   \n",
       "3                                 Education,Software                 3.0   \n",
       "4  Commerce and Shopping,Community and Lifestyle,...                 6.0   \n",
       "\n",
       "   total_funding_usd  total_funding  ...   job_type first_name  last_name  \\\n",
       "0       4.532000e+08   4.532000e+08  ...  executive     Dustin  Moskovitz   \n",
       "1       1.043490e+08   1.043490e+08  ...  executive       Alan  Braverman   \n",
       "2       2.521245e+10   2.521245e+10  ...  executive    Garrett       Camp   \n",
       "3       4.049999e+06   4.049999e+06  ...  executive       Will     Koffel   \n",
       "4       2.817250e+08   2.817250e+08  ...  executive     Henrik   Werdelin   \n",
       "\n",
       "   gender                           facebook_url  \\\n",
       "0    male         http://www.facebook.com/moskov   \n",
       "1    male  http://www.facebook.com/alanbraverman   \n",
       "2    male    http://www.facebook.com/garrettcamp   \n",
       "3    male        http://www.facebook.com/wkoffel   \n",
       "4    male                                    NaN   \n",
       "\n",
       "                             linkedin_url                  twitter_url  \\\n",
       "0     https://www.linkedin.com/in/dmoskov    http://twitter.com/moskov   \n",
       "1        http://www.linkedin.com/in/alanb   http://twitter.com/alanb42   \n",
       "2  http://www.linkedin.com/in/garrettcamp       https://twitter.com/gc   \n",
       "3      http://www.linkedin.com/in/wkoffel   http://twitter.com/wkoffel   \n",
       "4     http://www.linkedin.com/in/werdelin  http://twitter.com/werdelin   \n",
       "\n",
       "  facebook_url_exists  linkedin_url_exists  twitter_url_exists  \n",
       "0                   1                    1                   1  \n",
       "1                   1                    1                   1  \n",
       "2                   1                    1                   1  \n",
       "3                   1                    1                   1  \n",
       "4                   0                    1                   1  \n",
       "\n",
       "[5 rows x 38 columns]"
      ]
     },
     "execution_count": 5,
     "metadata": {},
     "output_type": "execute_result"
    }
   ],
   "source": [
    "data.head()"
   ]
  },
  {
   "cell_type": "code",
   "execution_count": 7,
   "metadata": {},
   "outputs": [
    {
     "data": {
      "text/plain": [
       "Index(['Unnamed: 0', 'CB_company_uuid', 'legal_name', 'domain', 'city',\n",
       "       'status', 'category_groups_list', 'num_funding_rounds',\n",
       "       'total_funding_usd', 'total_funding', 'founded_on', 'last_funding_on',\n",
       "       'employee_count', 'raised_amount_usd', 'acquiree_name', 'acquirer_name',\n",
       "       'acquired_on', 'went_public_on', 'valuation_price_usd',\n",
       "       'valuation_price', 'money_raised_usd', 'money_raised', 'CB_people_uuid',\n",
       "       'person_name', 'started_on', 'ended_on', 'is_current', 'title',\n",
       "       'job_type', 'first_name', 'last_name', 'gender', 'facebook_url',\n",
       "       'linkedin_url', 'twitter_url', 'facebook_url_exists',\n",
       "       'linkedin_url_exists', 'twitter_url_exists'],\n",
       "      dtype='object')"
      ]
     },
     "execution_count": 7,
     "metadata": {},
     "output_type": "execute_result"
    }
   ],
   "source": [
    "data.columns"
   ]
  },
  {
   "cell_type": "code",
   "execution_count": 8,
   "metadata": {},
   "outputs": [
    {
     "data": {
      "text/plain": [
       "6130"
      ]
     },
     "execution_count": 8,
     "metadata": {},
     "output_type": "execute_result"
    }
   ],
   "source": [
    "len(data.index)"
   ]
  },
  {
   "cell_type": "code",
   "execution_count": 6,
   "metadata": {},
   "outputs": [
    {
     "data": {
      "text/plain": [
       "0    4725\n",
       "1    1405\n",
       "Name: facebook_url_exists, dtype: int64"
      ]
     },
     "execution_count": 6,
     "metadata": {},
     "output_type": "execute_result"
    }
   ],
   "source": [
    "data['facebook_url_exists'].value_counts()"
   ]
  },
  {
   "cell_type": "code",
   "execution_count": 7,
   "metadata": {},
   "outputs": [
    {
     "data": {
      "text/plain": [
       "1    6020\n",
       "0     110\n",
       "Name: linkedin_url_exists, dtype: int64"
      ]
     },
     "execution_count": 7,
     "metadata": {},
     "output_type": "execute_result"
    }
   ],
   "source": [
    "data['linkedin_url_exists'].value_counts()"
   ]
  },
  {
   "cell_type": "code",
   "execution_count": 8,
   "metadata": {},
   "outputs": [
    {
     "data": {
      "text/plain": [
       "0    3202\n",
       "1    2928\n",
       "Name: twitter_url_exists, dtype: int64"
      ]
     },
     "execution_count": 8,
     "metadata": {},
     "output_type": "execute_result"
    }
   ],
   "source": [
    "data['twitter_url_exists'].value_counts()"
   ]
  },
  {
   "cell_type": "code",
   "execution_count": 9,
   "metadata": {},
   "outputs": [],
   "source": [
    "value_exists = [1405, 2928, 6020]\n",
    "platforms = ['Facebook','Twitter','LinkedIn']"
   ]
  },
  {
   "cell_type": "code",
   "execution_count": 10,
   "metadata": {},
   "outputs": [
    {
     "data": {
      "image/png": "[encoded data removed]",
      "text/plain": [
       "<Figure size 432x288 with 1 Axes>"
      ]
     },
     "metadata": {
      "needs_background": "light"
     },
     "output_type": "display_data"
    }
   ],
   "source": [
    "# creating the bar plot\n",
    "plt.bar(platforms, value_exists, color ='blue',\n",
    "        width = 0.4)\n",
    "\n",
    "plt.xlabel(\"Platforms\")\n",
    "plt.ylabel(\"No. of active accounts\")\n",
    "plt.title(\"Distribution of Social Media Usage of the founders\")\n",
    "plt.show()"
   ]
  },
  {
   "cell_type": "code",
   "execution_count": 11,
   "metadata": {},
   "outputs": [],
   "source": [
    "##### pandas sql to get founders with no social media"
   ]
  },
  {
   "cell_type": "code",
   "execution_count": 12,
   "metadata": {},
   "outputs": [],
   "source": [
    "pysqldf = lambda q: sqldf(q, globals())"
   ]
  },
  {
   "cell_type": "code",
   "execution_count": 13,
   "metadata": {},
   "outputs": [],
   "source": [
    "q = \"SELECT * FROM data WHERE facebook_url_exists = '0' AND twitter_url_exists = '0' AND linkedin_url_exists = '0'\""
   ]
  },
  {
   "cell_type": "code",
   "execution_count": 14,
   "metadata": {},
   "outputs": [],
   "source": [
    "no_social = pysqldf(q)"
   ]
  },
  {
   "cell_type": "code",
   "execution_count": 15,
   "metadata": {},
   "outputs": [
    {
     "data": {
      "text/plain": [
       "83"
      ]
     },
     "execution_count": 15,
     "metadata": {},
     "output_type": "execute_result"
    }
   ],
   "source": [
    "no_social['legal_name'].count()"
   ]
  },
  {
   "cell_type": "code",
   "execution_count": 16,
   "metadata": {},
   "outputs": [
    {
     "data": {
      "text/plain": [
       "male      70\n",
       "female    13\n",
       "Name: gender, dtype: int64"
      ]
     },
     "execution_count": 16,
     "metadata": {},
     "output_type": "execute_result"
    }
   ],
   "source": [
    "no_social['gender'].value_counts()"
   ]
  },
  {
   "cell_type": "code",
   "execution_count": 17,
   "metadata": {},
   "outputs": [
    {
     "data": {
      "text/plain": [
       "male          5373\n",
       "female         753\n",
       "non_binary       2\n",
       "agender          1\n",
       "bigender         1\n",
       "Name: gender, dtype: int64"
      ]
     },
     "execution_count": 17,
     "metadata": {},
     "output_type": "execute_result"
    }
   ],
   "source": [
    "data['gender'].value_counts()"
   ]
  },
  {
   "cell_type": "code",
   "execution_count": 25,
   "metadata": {},
   "outputs": [
    {
     "data": {
      "image/png": "[encoded data removed]",
      "text/plain": [
       "<Figure size 432x288 with 1 Axes>"
      ]
     },
     "metadata": {
      "needs_background": "light"
     },
     "output_type": "display_data"
    }
   ],
   "source": [
    "# creating the bar plot\n",
    "gender = ['male','female','Non Binary','Agender','Bigender']\n",
    "gender_counts = [5303,740,2,1,1]\n",
    "plt.bar(gender, gender_counts, color='blue',\n",
    "        width=0.4)\n",
    "\n",
    "plt.xlabel(\"Genders\")\n",
    "plt.ylabel(\"No. of active accounts\")\n",
    "plt.title(\"Distribution of Social Media Usage of the founders based on Gender\")\n",
    "plt.show()\n"
   ]
  },
  {
   "cell_type": "code",
   "execution_count": 18,
   "metadata": {},
   "outputs": [
    {
     "name": "stdout",
     "output_type": "stream",
     "text": [
      "{'male': 1.3028103480364788, 'female': 1.7264276228419653}\n"
     ]
    }
   ],
   "source": [
    "no_social_ratio={}\n",
    "no_social_ratio['male'] = 70/5373*100\n",
    "no_social_ratio['female'] = 13/753*100\n",
    "print(no_social_ratio)"
   ]
  },
  {
   "cell_type": "code",
   "execution_count": 19,
   "metadata": {},
   "outputs": [
    {
     "data": {
      "text/plain": [
       "2928"
      ]
     },
     "execution_count": 19,
     "metadata": {},
     "output_type": "execute_result"
    }
   ],
   "source": [
    "q = \"SELECT * FROM data WHERE facebook_url_exists = '0' AND twitter_url_exists = '0' AND linkedin_url_exists = '1'\"\n",
    "only_li = pysqldf(q)\n",
    "only_li['legal_name'].count()"
   ]
  },
  {
   "cell_type": "code",
   "execution_count": 20,
   "metadata": {},
   "outputs": [
    {
     "data": {
      "text/plain": [
       "18"
      ]
     },
     "execution_count": 20,
     "metadata": {},
     "output_type": "execute_result"
    }
   ],
   "source": [
    "q = \"SELECT * FROM data WHERE facebook_url_exists = '0' AND twitter_url_exists = '1' AND linkedin_url_exists = '0'\"\n",
    "only_tw = pysqldf(q)\n",
    "only_tw['legal_name'].count()"
   ]
  },
  {
   "cell_type": "code",
   "execution_count": 21,
   "metadata": {},
   "outputs": [
    {
     "data": {
      "text/plain": [
       "2"
      ]
     },
     "execution_count": 21,
     "metadata": {},
     "output_type": "execute_result"
    }
   ],
   "source": [
    "q = \"SELECT * FROM data WHERE facebook_url_exists = '1' AND twitter_url_exists = '0' AND linkedin_url_exists = '0'\"\n",
    "only_tw = pysqldf(q)\n",
    "only_tw['legal_name'].count()"
   ]
  },
  {
   "cell_type": "code",
   "execution_count": 22,
   "metadata": {},
   "outputs": [],
   "source": [
    "#drop them who don't use them"
   ]
  },
  {
   "cell_type": "code",
   "execution_count": 9,
   "metadata": {},
   "outputs": [
    {
     "data": {
      "image/png": "[encoded data removed]",
      "text/plain": [
       "<Figure size 432x288 with 1 Axes>"
      ]
     },
     "metadata": {
      "needs_background": "light"
     },
     "output_type": "display_data"
    }
   ],
   "source": [
    "only_socials = ['LinkedIn','Twitter','Facebook']\n",
    "counts = [2928,18,2]\n",
    "plt.bar(only_socials, counts, color='blue',\n",
    "        width=0.4)\n",
    "\n",
    "plt.xlabel(\"Platforms\")\n",
    "plt.ylabel(\"No. of active accounts\")\n",
    "plt.title(\"Distribution founders using only one platform\")\n",
    "plt.show()\n"
   ]
  },
  {
   "cell_type": "markdown",
   "metadata": {},
   "source": [
    "* 83 people in this list use no social media\n",
    "* 1.3% males use no social\n",
    "* 1.7% females use no social\n",
    "* 2928 use only LinkedIn\n",
    "* 18 use only Twitter\n",
    "* 2 use only Facebook"
   ]
  },
  {
   "cell_type": "code",
   "execution_count": 23,
   "metadata": {},
   "outputs": [
    {
     "data": {
      "text/plain": [
       "array(['San Francisco', 'Boston', 'New York', 'Cape Canaveral',\n",
       "       'Costa Mesa', 'Austin', 'Menlo Park', 'Tempe', 'California City',\n",
       "       'Redwood Shores', 'Reston', 'Chicago', 'Redwood City',\n",
       "       'Mountain View', 'San Mateo', 'Dallas', 'Corte Madera',\n",
       "       'Santa Clara', 'Waltham', 'San Jose', 'Seattle', 'San Diego',\n",
       "       'Los Angeles', 'Culver City', 'South San Francisco', 'Emeryville',\n",
       "       'Draper', 'Palo Alto', 'Santa Monica', 'Framingham', 'Mill Valley',\n",
       "       'Sunnyvale', 'Minneapolis', 'Cambridge', 'Saint Louis',\n",
       "       'Indianapolis', 'Cupertino', 'Foster City', 'Los Gatos',\n",
       "       'Wilmington', 'Mamaroneck', 'Burlington', 'Pleasanton', 'Stamford',\n",
       "       'Oakland', 'Somerville', 'Rochester', 'Atlanta', 'Boulder',\n",
       "       'La Jolla', 'Brooklyn', 'El Segundo', 'Milpitas', 'San Carlos',\n",
       "       'Durham', 'Santa Fe', 'Washington', 'Chevy Chase', 'Bedford',\n",
       "       'Danvers', 'Rockville', 'Newark', 'Columbia', 'Colorado Springs',\n",
       "       'Bellevue', 'Nashville', 'Fremont', 'Las Vegas', 'Watertown',\n",
       "       'Carpinteria', 'Burlingame', 'Provo', 'Woburn', 'Wellesley',\n",
       "       'Broadway', 'San Ramon', 'Roslyn', 'Arlington', 'Conshohocken',\n",
       "       'Philadelphia', 'Manchester', 'West Hollywood', 'Vacaville',\n",
       "       'Hampton', 'Hillsboro', 'Glendale', 'Santa Barbara', 'St Louis',\n",
       "       'Lexington', 'Missouri City', 'Calabasas', 'Laguna Hills',\n",
       "       'San Bruno', 'Saratoga', 'Chapel Hill', 'Kansas City',\n",
       "       'Pittsburgh', 'Berkeley', 'Alpharetta', 'Mojave', 'Portland',\n",
       "       'Needham', 'Englewood', 'Cedar Park', 'Billerica', 'Melville',\n",
       "       'Corvallis', 'Denver', 'Marietta', 'Kyle', 'Hayward',\n",
       "       'The Woodlands', 'Tampa', 'Marlborough', 'Irvine', 'Santa Rosa',\n",
       "       'Concord', 'Brookfield', 'Norcross', 'Woodbridge', 'South Jordan',\n",
       "       'Lebanon', 'Wayne', 'Ames', 'Solana Beach', 'Belmont', 'Vienna',\n",
       "       'Aliso Viejo', 'Los Altos', 'Jersey City', 'Salt Lake City',\n",
       "       'Providence', 'Manhattan Beach', 'Reno', 'Melbourne',\n",
       "       'Morrisville', 'Branford', 'Cincinnati', 'Plano', 'Miami',\n",
       "       'Kirkland', 'Detroit', 'Richmond', 'Cleveland', 'Harbor City',\n",
       "       'Lyndhurst', 'Hoffman Estates', 'Chattanooga', 'Pasadena',\n",
       "       'Herndon', 'Vancouver', 'Lehi', 'Charlottesville', 'Beverly',\n",
       "       'Campbell', 'Bethesda', 'Woodland Hills', 'Ridgefield',\n",
       "       'Park City', 'Rogers', 'Addison', 'Norwalk', 'San Antonio',\n",
       "       'Irvington', 'Dover', 'Toms River', 'Walnut', 'Germantown',\n",
       "       'Buffalo', 'Venice', 'Coppell', 'Moffett Field', 'St. Petersburg',\n",
       "       'Nutley', 'Grand Rapids', 'Orange', 'Burbank', 'Miami Lakes',\n",
       "       'Long Island City', 'Baltimore', 'Madison', 'Frederick', 'Houston',\n",
       "       'Ashland', 'Fort Lauderdale', 'Monmouth Junction', 'Annapolis',\n",
       "       'Boxborough', 'Redmond', 'Florham Park', 'Dayton', 'Kennesaw',\n",
       "       'Livermore', 'Eden Prairie', 'Frisco', 'Hoboken', 'Franklin',\n",
       "       'Overland Park', 'West Lafayette', 'Brisbane', 'Des Moines',\n",
       "       'Fort Worth', 'Raleigh', 'Naperville', 'Saint Petersburg',\n",
       "       'Ann Arbor', 'Olathe', 'Falls Church', 'Jupiter', 'Summit',\n",
       "       'Ramsey', 'Charleston', 'Bozeman', 'Champaign', 'Oklahoma City',\n",
       "       'West Sacramento', 'Port Townsend', 'Bentonville', 'Manhattan',\n",
       "       'Belvedere Tiburon', 'Scottsdale', 'Broomfield', 'Syracuse',\n",
       "       'Fall River', 'New City', 'Farmington', 'Lafayette', 'New Orleans',\n",
       "       'Mclean', 'Columbus', 'Land O Lakes', 'Memphis', 'Chelmsford',\n",
       "       'Malvern', 'Kearny', 'Pelham', 'Harrisonburg', 'Irving',\n",
       "       'Pembroke Pines', 'Bend', 'Alameda', 'Waterbury', 'Brighton',\n",
       "       'Newport', 'College Park', 'Souderton', 'Charlotte', 'Greenville',\n",
       "       'Latham', 'Lowell', 'Carlsbad', 'South Bend', 'Birmingham',\n",
       "       'Alexandria', 'Winston Salem', 'Minnesota City', 'Kaysville',\n",
       "       'Morton Grove', 'Oak Park Heights', 'Whitehouse Station',\n",
       "       'Braintree', 'Scotts Valley', 'Kingston', 'Long Beach',\n",
       "       'Mukwonago', 'Arlington Heights', 'White River Junction',\n",
       "       'Albuquerque', 'New Haven', 'Highland Park', 'Cerritos', 'Omaha',\n",
       "       'Eugene', 'Arvada', 'Natick', 'Watervliet', 'Newton',\n",
       "       'Newport Beach', 'Fishers', 'Orlando', 'Alpine', 'Boise',\n",
       "       'Kissimmee', 'Bedford Hills', 'Dublin', 'Sacramento', 'Wichita',\n",
       "       'Saint Paul', 'Bloomington', 'Moraga', 'Chatsworth', 'Santa Ana',\n",
       "       'Troy', 'Greenwich', 'Akron', 'Lake Mary', 'Wilmette', 'Mason',\n",
       "       'Middleton', 'Golden', 'Spring', 'Boynton Beach', 'Glen Allen',\n",
       "       'Anaheim', 'Orem', 'Fort Collins', 'Halethorpe', 'Billings',\n",
       "       'Mapleton', 'Shreveport', 'Lisle', 'Mount Pleasant',\n",
       "       'Beverly Hills', 'Holmdel', 'Lewes', 'Pocahontas', 'Ithaca',\n",
       "       'Simi Valley', 'Marina Del Rey', 'Stanford', 'Bellingham',\n",
       "       'North Charleston', 'Bethlehem', 'Mooresville', 'Signal Hill',\n",
       "       'Roanoke', 'Milwaukee', 'Middlebury', 'Coralville', 'Oak Park',\n",
       "       'Owings Mills', 'Johnston', 'Hartford', 'Mobile', 'Little Rock',\n",
       "       'Palos Verdes Estates', 'Sterling', 'Sandy', 'Lititz',\n",
       "       'Middleburg', 'Warren', 'Winfield', 'Fairport', 'Grand Forks',\n",
       "       'West New York', 'South Portland', 'Phoenix', 'Kings Beach',\n",
       "       'Bronx', 'Delaware City', 'Roswell', 'Whitefish', 'Camden Wyoming',\n",
       "       'Millbrae', 'Scituate', 'Lakewood', 'Bainbridge Island',\n",
       "       'Newbury Park', 'Richardson', 'Chantilly', 'Jacksonville',\n",
       "       'Marion', 'Auburn', 'Santa Cruz', 'Augusta', 'Oviedo'],\n",
       "      dtype=object)"
      ]
     },
     "execution_count": 23,
     "metadata": {},
     "output_type": "execute_result"
    }
   ],
   "source": [
    "data['city'].unique()"
   ]
  },
  {
   "cell_type": "code",
   "execution_count": null,
   "metadata": {},
   "outputs": [],
   "source": []
  },
  {
   "cell_type": "code",
   "execution_count": null,
   "metadata": {},
   "outputs": [],
   "source": []
  }
 ],
 "metadata": {
  "kernelspec": {
   "display_name": "Python 3",
   "language": "python",
   "name": "python3"
  },
  "language_info": {
   "codemirror_mode": {
    "name": "ipython",
    "version": 3
   },
   "file_extension": ".py",
   "mimetype": "text/x-python",
   "name": "python",
   "nbconvert_exporter": "python",
   "pygments_lexer": "ipython3",
   "version": "3.8.5"
  }
 },
 "nbformat": 4,
 "nbformat_minor": 4
}

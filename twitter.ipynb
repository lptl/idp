{
 "cells": [
  {
   "cell_type": "code",
   "execution_count": 1,
   "id": "317bdef4",
   "metadata": {},
   "outputs": [],
   "source": [
    "from typing import List\n",
    "import pandas as pd\n",
    "import snscrape.modules.twitter as sntwitter\n",
    "\n",
    "def get_search_result(query_content: str) -> List:\n",
    "    scraper = sntwitter.TwitterSearchScraper(query_content)\n",
    "    return scraper.get_items()\n",
    "\n",
    "def get_user_tweets(username: str, max_tweets_num: int) -> List:\n",
    "    scraper = sntwitter.TwitterUserScraper(username)\n",
    "    if max_tweets_num == None:\n",
    "        return scraper.get_items()\n",
    "    else:\n",
    "        tweets = []\n",
    "        for tweet in scraper.get_items():\n",
    "            tweets.append(tweet)\n",
    "            if len(tweets) >= max_tweets_num:\n",
    "                return tweets\n",
    "\n",
    "def get_user(username: str):\n",
    "    scraper = sntwitter.TwitterUserScraper(username)\n",
    "    return scraper._get_entity()"
   ]
  },
  {
   "cell_type": "code",
   "execution_count": 4,
   "id": "8cbef4f3",
   "metadata": {},
   "outputs": [
    {
     "name": "stdout",
     "output_type": "stream",
     "text": [
      "2023-06-05 14:16:35+00:00 @DanielleFong @28delayslater @elonmusk I’m so sorry Danielle\n",
      "2023-06-05 02:49:16+00:00 @eshear @gthartley @_HannahRitchie can someone in your world pls take pity on poor Emmett\n",
      "2023-06-05 01:23:10+00:00 @eshear @gthartley Specifically bigger chunks of income so you can show more of the tail without grouping it\n",
      "2023-06-05 01:18:18+00:00 @eshear @gthartley Emmett your replies are heroic but consider choosing a different viz\n",
      "2023-06-05 00:22:19+00:00 @ciphergoth @Wilson__Valdez It seems like the messed up stuff happens when you’re older, that’s why I’m scared of turning 40 soon\n",
      "2023-06-04 23:37:37+00:00 @ciphergoth @Wilson__Valdez Give it time. Base rates.\n",
      "2023-06-04 23:17:52+00:00 @noampomsky Happened to someone I know yea\n",
      "2023-06-04 22:20:14+00:00 @daniel_271828 @QualyThe incredible that qualy qua yud still doesn’t follow @mealreplacer\n",
      "2023-06-04 21:15:11+00:00 @daniel_271828 @QualyThe this would be poastratatouille\n",
      "2023-06-04 19:25:34+00:00 @michael_nielsen Tools can help maximize your ROI https://t.co/sqEiNtAO1f\n",
      "2023-06-04 19:24:53+00:00 @michael_nielsen I stretch *in* the sauna which is awesome.\n",
      "\n",
      "A little pot or beer doesn’t hurt as long as you’re not going too far.\n",
      "2023-06-04 16:36:03+00:00 @peterwildeford This is the values specification problem that humans are also extremely bad at - eg environmental review stopping energy infra that is essential for climate mitigation\n",
      "2023-06-04 14:45:16+00:00 @lxrjl @LinchZhang Seems like the obvious conclusion is your legs are too strong for an effective body weight exercise that splits your weight across two legs\n",
      "2023-06-04 02:00:21+00:00 @abcdefg62886261 @levie he did, to let me know about the twitter dm\n",
      "2023-06-04 01:23:35+00:00 @frances__lorenz @JMannhart @AaronBergman18 wow what a bad take\n",
      "2023-06-04 00:11:12+00:00 Kinda unclear how @levie thinks the internet works tbh https://t.co/VtUc470mJQ\n",
      "2023-06-03 23:57:02+00:00 @anthonyhsiao @ylecun @lucarossi711 We will find out!\n",
      "2023-06-03 23:36:00+00:00 @anthonyhsiao @ylecun @lucarossi711 There are so many more nonpractitioners than practitioners that base rates dominate that math. This is the leaders of 3/4 labs - I think that’s what counts most, and a lot of the nonpractitioners are sensibly reacting to what those informed experts think.\n",
      "2023-06-03 23:22:52+00:00 @anthonyhsiao @ylecun @lucarossi711 There’s no need to perceive; they all just identified themselves https://t.co/xIXHjmGAOn only the FAIR team is not represented https://t.co/pDWdJTeV5n\n",
      "2023-06-03 22:09:25+00:00 @yishan @Chrisprucha At the end of the day they both shot a lot of people\n"
     ]
    }
   ],
   "source": [
    "username = 'moskov'\n",
    "tweets = get_user_tweets(username, 20)\n",
    "for tweet in tweets:\n",
    "    print(tweet.date, tweet.rawContent)"
   ]
  },
  {
   "cell_type": "code",
   "execution_count": 3,
   "id": "8392719c",
   "metadata": {},
   "outputs": [
    {
     "name": "stdout",
     "output_type": "stream",
     "text": [
      "['username', 'id', 'displayname', 'rawDescription', 'renderedDescription', 'descriptionLinks', 'verified', 'created', 'followersCount', 'friendsCount', 'statusesCount', 'favouritesCount', 'listedCount', 'mediaCount', 'location', 'protected', 'link', 'profileImageUrl', 'profileBannerUrl', 'label', '__module__', '__annotations__', 'descriptionUrls', 'linkUrl', 'linkTcourl', 'description', 'url', '__str__', '__doc__', '__dataclass_params__', '__dataclass_fields__', '__init__', '__repr__', '__eq__', '__hash__', 'json', '__dict__', '__weakref__', '__getattribute__', '__setattr__', '__delattr__', '__lt__', '__le__', '__ne__', '__gt__', '__ge__', '__new__', '__reduce_ex__', '__reduce__', '__subclasshook__', '__init_subclass__', '__format__', '__sizeof__', '__dir__', '__class__']\n"
     ]
    }
   ],
   "source": [
    "steve_harvey = get_user(username)\n",
    "print(steve_harvey.__dir__())"
   ]
  },
  {
   "cell_type": "code",
   "execution_count": null,
   "id": "3c8874de",
   "metadata": {},
   "outputs": [],
   "source": []
  }
 ],
 "metadata": {
  "kernelspec": {
   "display_name": "Python 3 (ipykernel)",
   "language": "python",
   "name": "python3"
  },
  "language_info": {
   "codemirror_mode": {
    "name": "ipython",
    "version": 3
   },
   "file_extension": ".py",
   "mimetype": "text/x-python",
   "name": "python",
   "nbconvert_exporter": "python",
   "pygments_lexer": "ipython3",
   "version": "3.9.13"
  }
 },
 "nbformat": 4,
 "nbformat_minor": 5
}

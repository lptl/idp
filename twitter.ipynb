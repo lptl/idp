{
 "cells": [
  {
   "cell_type": "code",
   "execution_count": 1,
   "id": "317bdef4",
   "metadata": {},
   "outputs": [],
   "source": [
    "from typing import List\n",
    "import pandas as pd\n",
    "import snscrape.modules.twitter as sntwitter\n",
    "\n",
    "def get_search_result(query_content: str) -> List:\n",
    "    scraper = sntwitter.TwitterSearchScraper(query_content)\n",
    "    return scraper.get_items()\n",
    "\n",
    "def get_user_tweets(username: str, max_tweets_num: int) -> List:\n",
    "    scraper = sntwitter.TwitterUserScraper(username)\n",
    "    if max_tweets_num == None:\n",
    "        return scraper.get_items()\n",
    "    else:\n",
    "        tweets = []\n",
    "        for tweet in scraper.get_items():\n",
    "            tweets.append(tweet)\n",
    "            if len(tweets) >= max_tweets_num:\n",
    "                return tweets\n",
    "\n",
    "def get_user(username: str):\n",
    "    scraper = sntwitter.TwitterUserScraper(username)\n",
    "    return scraper._get_entity()"
   ]
  },
  {
   "cell_type": "code",
   "execution_count": 3,
   "id": "8cbef4f3",
   "metadata": {},
   "outputs": [
    {
     "ename": "ValueError",
     "evalue": "Invalid username",
     "output_type": "error",
     "traceback": [
      "\u001b[0;31m---------------------------------------------------------------------------\u001b[0m",
      "\u001b[0;31mValueError\u001b[0m                                Traceback (most recent call last)",
      "\u001b[1;32m/Users/k/Desktop/Courses/idp/idp/twitter.ipynb Cell 2\u001b[0m in \u001b[0;36m2\n\u001b[1;32m      <a href='vscode-notebook-cell:/Users/k/Desktop/Courses/idp/idp/twitter.ipynb#W1sZmlsZQ%3D%3D?line=0'>1</a>\u001b[0m username \u001b[39m=\u001b[39m \u001b[39m'\u001b[39m\u001b[39madjflakjdfoaueoiofhdjaljxlc\u001b[39m\u001b[39m'\u001b[39m\n\u001b[0;32m----> <a href='vscode-notebook-cell:/Users/k/Desktop/Courses/idp/idp/twitter.ipynb#W1sZmlsZQ%3D%3D?line=1'>2</a>\u001b[0m tweets \u001b[39m=\u001b[39m get_user_tweets(username, \u001b[39m20\u001b[39;49m)\n\u001b[1;32m      <a href='vscode-notebook-cell:/Users/k/Desktop/Courses/idp/idp/twitter.ipynb#W1sZmlsZQ%3D%3D?line=2'>3</a>\u001b[0m \u001b[39mfor\u001b[39;00m tweet \u001b[39min\u001b[39;00m tweets:\n\u001b[1;32m      <a href='vscode-notebook-cell:/Users/k/Desktop/Courses/idp/idp/twitter.ipynb#W1sZmlsZQ%3D%3D?line=3'>4</a>\u001b[0m     \u001b[39mprint\u001b[39m(tweet\u001b[39m.\u001b[39mdate, tweet\u001b[39m.\u001b[39mrawContent)\n",
      "\u001b[1;32m/Users/k/Desktop/Courses/idp/idp/twitter.ipynb Cell 2\u001b[0m in \u001b[0;36m1\n\u001b[1;32m      <a href='vscode-notebook-cell:/Users/k/Desktop/Courses/idp/idp/twitter.ipynb#W1sZmlsZQ%3D%3D?line=8'>9</a>\u001b[0m \u001b[39mdef\u001b[39;00m \u001b[39mget_user_tweets\u001b[39m(username: \u001b[39mstr\u001b[39m, max_tweets_num: \u001b[39mint\u001b[39m) \u001b[39m-\u001b[39m\u001b[39m>\u001b[39m List:\n\u001b[0;32m---> <a href='vscode-notebook-cell:/Users/k/Desktop/Courses/idp/idp/twitter.ipynb#W1sZmlsZQ%3D%3D?line=9'>10</a>\u001b[0m     scraper \u001b[39m=\u001b[39m sntwitter\u001b[39m.\u001b[39;49mTwitterUserScraper(username)\n\u001b[1;32m     <a href='vscode-notebook-cell:/Users/k/Desktop/Courses/idp/idp/twitter.ipynb#W1sZmlsZQ%3D%3D?line=10'>11</a>\u001b[0m     \u001b[39mif\u001b[39;00m max_tweets_num \u001b[39m==\u001b[39m \u001b[39mNone\u001b[39;00m:\n\u001b[1;32m     <a href='vscode-notebook-cell:/Users/k/Desktop/Courses/idp/idp/twitter.ipynb#W1sZmlsZQ%3D%3D?line=11'>12</a>\u001b[0m         \u001b[39mreturn\u001b[39;00m scraper\u001b[39m.\u001b[39mget_items()\n",
      "File \u001b[0;32m/opt/homebrew/Caskroom/miniconda/base/envs/i2dl/lib/python3.9/site-packages/snscrape/modules/twitter.py:1727\u001b[0m, in \u001b[0;36mTwitterUserScraper.__init__\u001b[0;34m(self, user, **kwargs)\u001b[0m\n\u001b[1;32m   1725\u001b[0m \u001b[39mself\u001b[39m\u001b[39m.\u001b[39m_isUserId \u001b[39m=\u001b[39m \u001b[39misinstance\u001b[39m(user, \u001b[39mint\u001b[39m)\n\u001b[1;32m   1726\u001b[0m \u001b[39mif\u001b[39;00m \u001b[39mnot\u001b[39;00m \u001b[39mself\u001b[39m\u001b[39m.\u001b[39m_isUserId \u001b[39mand\u001b[39;00m \u001b[39mnot\u001b[39;00m \u001b[39mself\u001b[39m\u001b[39m.\u001b[39mis_valid_username(user):\n\u001b[0;32m-> 1727\u001b[0m \t\u001b[39mraise\u001b[39;00m \u001b[39mValueError\u001b[39;00m(\u001b[39m'\u001b[39m\u001b[39mInvalid username\u001b[39m\u001b[39m'\u001b[39m)\n\u001b[1;32m   1728\u001b[0m \u001b[39msuper\u001b[39m()\u001b[39m.\u001b[39m\u001b[39m__init__\u001b[39m(\u001b[39mf\u001b[39m\u001b[39m'\u001b[39m\u001b[39mfrom:\u001b[39m\u001b[39m{\u001b[39;00muser\u001b[39m}\u001b[39;00m\u001b[39m'\u001b[39m, \u001b[39m*\u001b[39m\u001b[39m*\u001b[39mkwargs)\n\u001b[1;32m   1729\u001b[0m \u001b[39mself\u001b[39m\u001b[39m.\u001b[39m_user \u001b[39m=\u001b[39m user\n",
      "\u001b[0;31mValueError\u001b[0m: Invalid username"
     ]
    }
   ],
   "source": [
    "username = 'adjflakjdfoaueoiofhdjaljxlc'\n",
    "tweets = get_user_tweets(username, 20)\n",
    "for tweet in tweets:\n",
    "    print(tweet.date, tweet.rawContent)"
   ]
  },
  {
   "cell_type": "code",
   "execution_count": 3,
   "id": "8392719c",
   "metadata": {},
   "outputs": [
    {
     "name": "stdout",
     "output_type": "stream",
     "text": [
      "['username', 'id', 'displayname', 'rawDescription', 'renderedDescription', 'descriptionLinks', 'verified', 'created', 'followersCount', 'friendsCount', 'statusesCount', 'favouritesCount', 'listedCount', 'mediaCount', 'location', 'protected', 'link', 'profileImageUrl', 'profileBannerUrl', 'label', '__module__', '__annotations__', 'descriptionUrls', 'linkUrl', 'linkTcourl', 'description', 'url', '__str__', '__doc__', '__dataclass_params__', '__dataclass_fields__', '__init__', '__repr__', '__eq__', '__hash__', 'json', '__dict__', '__weakref__', '__getattribute__', '__setattr__', '__delattr__', '__lt__', '__le__', '__ne__', '__gt__', '__ge__', '__new__', '__reduce_ex__', '__reduce__', '__subclasshook__', '__init_subclass__', '__format__', '__sizeof__', '__dir__', '__class__']\n"
     ]
    }
   ],
   "source": [
    "steve_harvey = get_user(username)\n",
    "print(steve_harvey.__dir__())"
   ]
  },
  {
   "cell_type": "code",
   "execution_count": null,
   "id": "3c8874de",
   "metadata": {},
   "outputs": [],
   "source": []
  }
 ],
 "metadata": {
  "kernelspec": {
   "display_name": "Python 3 (ipykernel)",
   "language": "python",
   "name": "python3"
  },
  "language_info": {
   "codemirror_mode": {
    "name": "ipython",
    "version": 3
   },
   "file_extension": ".py",
   "mimetype": "text/x-python",
   "name": "python",
   "nbconvert_exporter": "python",
   "pygments_lexer": "ipython3",
   "version": "3.9.13"
  }
 },
 "nbformat": 4,
 "nbformat_minor": 5
}

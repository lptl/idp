{
 "cells": [
  {
   "cell_type": "code",
   "execution_count": 1,
   "id": "317bdef4",
   "metadata": {},
   "outputs": [],
   "source": [
    "from typing import List\n",
    "import pandas as pd\n",
    "import snscrape.modules.twitter as sntwitter\n",
    "\n",
    "def get_search_result(query_content: str) -> List:\n",
    "    scraper = sntwitter.TwitterSearchScraper(query_content)\n",
    "    return scraper.get_items()\n",
    "\n",
    "def get_user_tweets(username: str, max_tweets_num: int) -> List:\n",
    "    scraper = sntwitter.TwitterUserScraper(username)\n",
    "    if max_tweets_num == None:\n",
    "        return scraper.get_items()\n",
    "    else:\n",
    "        tweets = []\n",
    "        for tweet in scraper.get_items():\n",
    "            tweets.append(tweet)\n",
    "            if len(tweets) >= max_tweets_num:\n",
    "                return tweets\n",
    "\n",
    "def get_user(username: str):\n",
    "    scraper = sntwitter.TwitterUserScraper(username)\n",
    "    return scraper._get_entity()"
   ]
  },
  {
   "cell_type": "code",
   "execution_count": 2,
   "id": "8cbef4f3",
   "metadata": {},
   "outputs": [
    {
     "name": "stdout",
     "output_type": "stream",
     "text": [
      "2023-05-12 18:34:48+00:00 PARIS @paulpogba \n",
      "\n",
      "#MeltMideast #EntertainmentUAE #OweisZahran\n",
      "#SteveHarvey #PaulPogba https://t.co/toIpa3KuHX\n",
      "2023-05-12 16:47:20+00:00 Chase That Dream 💯 https://t.co/q6NkYHmLpf\n",
      "2023-05-12 10:02:00+00:00 No matter what happens, life ain't over. As long as God wakes you up, that means he ain't through with you yet. When God wakes you up, he has something for you that you haven't received. Every day you have the opportunity to make something happen. https://t.co/eltc2B0WEp\n",
      "2023-05-12 04:35:20+00:00 #loriharvey is a boss! https://t.co/8tJay0RJPc\n",
      "2023-05-12 04:01:00+00:00 I really believe God can do anything. I ask God for OUTRAGEOUS things. I live by Ephesians 3:20, the book of Deuteronomy and so many others. You can't out-faith me, you can't out-believe me. My faith doesn't waver. I wouldn't have made it this far without Bible scriptures. https://t.co/YyNljvkgtO\n",
      "2023-05-12 00:25:55+00:00 👊🏾 https://t.co/jW5qKwOp4t\n",
      "2023-05-11 10:50:00+00:00 The Bible says a man is as he thinketh. If you want to be successful, you have to change your mindset. If you want more from life... There's really no way around it. It's not hard, your lack of belief is what makes it hard. https://t.co/4s4h2AJWzp\n",
      "2023-05-11 10:48:59+00:00 There’s no Testimony without a Test. Embrace the journey 💯\n",
      "2023-05-11 07:49:00+00:00 I really believe God can do anything. I ask God for OUTRAGEOUS things. I live by Ephesians 3:20, the book of Deuteronomy and so many others. You can't out-faith me, you can't out-believe me. My faith doesn't waver. I wouldn't have made it this far without Bible scriptures. https://t.co/KL6VwZKYSW\n",
      "2023-05-11 04:48:00+00:00 https://t.co/Wzfb7OpE20\n",
      "2023-05-10 17:21:09+00:00 I love you #MarjorieHarvey https://t.co/zyGEXwYcPl\n",
      "2023-05-10 16:39:16+00:00 Happy moments, praise God. Difficult moments, seek God. Painful moments, trust God. Every moment, thank God.\n",
      "2023-05-10 04:13:19+00:00 PARIS https://t.co/YvLJUe1e3r\n",
      "2023-05-10 02:00:01+00:00 What a WILD night of #JudgeSteveHarvey! Thanks for watching along with me 🙌🏾 @JudgeHarveyABC https://t.co/EAyWbal1kC\n",
      "2023-05-10 01:40:00+00:00 Bring in the evidence 👀 #JudgeSteveHarvey @JudgeHarveyABC https://t.co/0Rz5L3QoNZ\n",
      "2023-05-10 01:35:00+00:00 He’s done talking about this?! Rookie mistake 😳 #JudgeSteveHarvey @JudgeHarveyABC https://t.co/3VccEbq1zY\n",
      "2023-05-10 01:10:00+00:00 63 has never looked so good 🤩 #JudgeSteveHarvey @JudgeHarveyABC https://t.co/27J7roqdSt\n",
      "2023-05-10 01:00:01+00:00 Your judge is back! Come watch the premiere of #JudgeSteveHarvey with me NOW on ABC! 👏🏾 @JudgeHarveyABC https://t.co/zhim64NEZg\n",
      "2023-05-09 22:10:34+00:00 💯 https://t.co/odjmMIj6Is\n",
      "2023-05-09 12:30:34+00:00 Looking for evidence that you'll love the new season of #JudgeSteveHarvey? Watch TONIGHT at 9/8c on @ABCNetwork and Stream on @hulu to find it! @JudgeHarveyABC 👨🏾‍⚖️ https://t.co/E4xpKah1PT\n"
     ]
    }
   ],
   "source": [
    "username = 'IAmSteveHarvey'\n",
    "tweets = get_user_tweets(username, 20)\n",
    "for tweet in tweets:\n",
    "    print(tweet.date, tweet.rawContent)"
   ]
  },
  {
   "cell_type": "code",
   "execution_count": 3,
   "id": "8392719c",
   "metadata": {},
   "outputs": [
    {
     "name": "stdout",
     "output_type": "stream",
     "text": [
      "['username', 'id', 'displayname', 'rawDescription', 'renderedDescription', 'descriptionLinks', 'verified', 'created', 'followersCount', 'friendsCount', 'statusesCount', 'favouritesCount', 'listedCount', 'mediaCount', 'location', 'protected', 'link', 'profileImageUrl', 'profileBannerUrl', 'label', '__module__', '__annotations__', 'descriptionUrls', 'linkUrl', 'linkTcourl', 'description', 'url', '__str__', '__doc__', '__dataclass_params__', '__dataclass_fields__', '__init__', '__repr__', '__eq__', '__hash__', 'json', '__dict__', '__weakref__', '__getattribute__', '__setattr__', '__delattr__', '__lt__', '__le__', '__ne__', '__gt__', '__ge__', '__new__', '__reduce_ex__', '__reduce__', '__subclasshook__', '__init_subclass__', '__format__', '__sizeof__', '__dir__', '__class__']\n"
     ]
    }
   ],
   "source": [
    "steve_harvey = get_user(username)\n",
    "print(steve_harvey.__dir__())"
   ]
  },
  {
   "cell_type": "code",
   "execution_count": null,
   "id": "3c8874de",
   "metadata": {},
   "outputs": [],
   "source": []
  }
 ],
 "metadata": {
  "kernelspec": {
   "display_name": "Python 3 (ipykernel)",
   "language": "python",
   "name": "python3"
  },
  "language_info": {
   "codemirror_mode": {
    "name": "ipython",
    "version": 3
   },
   "file_extension": ".py",
   "mimetype": "text/x-python",
   "name": "python",
   "nbconvert_exporter": "python",
   "pygments_lexer": "ipython3",
   "version": "3.9.13"
  }
 },
 "nbformat": 4,
 "nbformat_minor": 5
}

{
 "cells": [
  {
   "cell_type": "code",
   "execution_count": 3,
   "metadata": {},
   "outputs": [],
   "source": [
    "import os\n",
    "import json\n",
    "import pandas as pd\n",
    "import matplotlib.pyplot as plt\n",
    "from matplotlib import rcParams\n",
    "import numpy as np\n",
    "import re\n",
    "import seaborn as sns\n",
    "from sklearn.preprocessing import MinMaxScaler"
   ]
  },
  {
   "cell_type": "code",
   "execution_count": 4,
   "metadata": {},
   "outputs": [],
   "source": [
    "data = pd.read_csv('merged_dataframe.csv')"
   ]
  },
  {
   "cell_type": "code",
   "execution_count": 5,
   "metadata": {},
   "outputs": [
    {
     "data": {
      "text/html": [
       "<div>\n",
       "<style scoped>\n",
       "    .dataframe tbody tr th:only-of-type {\n",
       "        vertical-align: middle;\n",
       "    }\n",
       "\n",
       "    .dataframe tbody tr th {\n",
       "        vertical-align: top;\n",
       "    }\n",
       "\n",
       "    .dataframe thead th {\n",
       "        text-align: right;\n",
       "    }\n",
       "</style>\n",
       "<table border=\"1\" class=\"dataframe\">\n",
       "  <thead>\n",
       "    <tr style=\"text-align: right;\">\n",
       "      <th></th>\n",
       "      <th>Unnamed: 0</th>\n",
       "      <th>CB_company_uuid</th>\n",
       "      <th>legal_name</th>\n",
       "      <th>domain</th>\n",
       "      <th>city</th>\n",
       "      <th>status</th>\n",
       "      <th>category_groups_list</th>\n",
       "      <th>num_funding_rounds</th>\n",
       "      <th>total_funding_usd</th>\n",
       "      <th>total_funding</th>\n",
       "      <th>...</th>\n",
       "      <th>linkedin_url</th>\n",
       "      <th>twitter_url</th>\n",
       "      <th>facebook_url_exists</th>\n",
       "      <th>linkedin_url_exists</th>\n",
       "      <th>twitter_url_exists</th>\n",
       "      <th>openness</th>\n",
       "      <th>conscientiousness</th>\n",
       "      <th>extraversion</th>\n",
       "      <th>agreeableness</th>\n",
       "      <th>neuroticism</th>\n",
       "    </tr>\n",
       "  </thead>\n",
       "  <tbody>\n",
       "    <tr>\n",
       "      <th>0</th>\n",
       "      <td>10</td>\n",
       "      <td>c2d47d05-9e78-de77-084c-dd5171251ff1</td>\n",
       "      <td>Asana, Inc.</td>\n",
       "      <td>asana.com</td>\n",
       "      <td>San Francisco</td>\n",
       "      <td>ipo</td>\n",
       "      <td>Other,Software</td>\n",
       "      <td>13.0</td>\n",
       "      <td>4.532000e+08</td>\n",
       "      <td>4.532000e+08</td>\n",
       "      <td>...</td>\n",
       "      <td>https://www.linkedin.com/in/dmoskov</td>\n",
       "      <td>http://twitter.com/moskov</td>\n",
       "      <td>1</td>\n",
       "      <td>1</td>\n",
       "      <td>1</td>\n",
       "      <td>63.370382</td>\n",
       "      <td>25.464822</td>\n",
       "      <td>37.577109</td>\n",
       "      <td>36.705432</td>\n",
       "      <td>53.540692</td>\n",
       "    </tr>\n",
       "    <tr>\n",
       "      <th>1</th>\n",
       "      <td>31</td>\n",
       "      <td>9921555e-1f0c-9404-6e89-24bc1641085b</td>\n",
       "      <td>Xoom Corporation</td>\n",
       "      <td>xoom.com</td>\n",
       "      <td>San Francisco</td>\n",
       "      <td>acquired</td>\n",
       "      <td>Commerce and Shopping,Financial Services,Payments</td>\n",
       "      <td>7.0</td>\n",
       "      <td>1.043490e+08</td>\n",
       "      <td>1.043490e+08</td>\n",
       "      <td>...</td>\n",
       "      <td>http://www.linkedin.com/in/alanb</td>\n",
       "      <td>http://twitter.com/alanb42</td>\n",
       "      <td>1</td>\n",
       "      <td>1</td>\n",
       "      <td>1</td>\n",
       "      <td>37.613179</td>\n",
       "      <td>55.368255</td>\n",
       "      <td>57.353612</td>\n",
       "      <td>60.636094</td>\n",
       "      <td>33.727562</td>\n",
       "    </tr>\n",
       "    <tr>\n",
       "      <th>2</th>\n",
       "      <td>45</td>\n",
       "      <td>1eb37109-3b93-01a9-177f-fee2cb1bfcdc</td>\n",
       "      <td>Uber Technologies Inc.</td>\n",
       "      <td>uber.com</td>\n",
       "      <td>San Francisco</td>\n",
       "      <td>ipo</td>\n",
       "      <td>Apps,Mobile,Software,Transportation</td>\n",
       "      <td>33.0</td>\n",
       "      <td>2.521245e+10</td>\n",
       "      <td>2.521245e+10</td>\n",
       "      <td>...</td>\n",
       "      <td>http://www.linkedin.com/in/garrettcamp</td>\n",
       "      <td>https://twitter.com/gc</td>\n",
       "      <td>1</td>\n",
       "      <td>1</td>\n",
       "      <td>1</td>\n",
       "      <td>51.419381</td>\n",
       "      <td>56.900714</td>\n",
       "      <td>58.511746</td>\n",
       "      <td>53.644787</td>\n",
       "      <td>39.680803</td>\n",
       "    </tr>\n",
       "    <tr>\n",
       "      <th>3</th>\n",
       "      <td>67</td>\n",
       "      <td>a2e8a0ad-43ff-2039-3784-e53026415bbc</td>\n",
       "      <td>Hatchlearn Inc.</td>\n",
       "      <td>outlearn.com</td>\n",
       "      <td>Boston</td>\n",
       "      <td>closed</td>\n",
       "      <td>Education,Software</td>\n",
       "      <td>3.0</td>\n",
       "      <td>4.049999e+06</td>\n",
       "      <td>4.049999e+06</td>\n",
       "      <td>...</td>\n",
       "      <td>http://www.linkedin.com/in/wkoffel</td>\n",
       "      <td>http://twitter.com/wkoffel</td>\n",
       "      <td>1</td>\n",
       "      <td>1</td>\n",
       "      <td>1</td>\n",
       "      <td>44.990336</td>\n",
       "      <td>41.616432</td>\n",
       "      <td>46.410309</td>\n",
       "      <td>43.615215</td>\n",
       "      <td>53.623595</td>\n",
       "    </tr>\n",
       "    <tr>\n",
       "      <th>4</th>\n",
       "      <td>78</td>\n",
       "      <td>4cb7db7b-0581-3c51-3ff1-8ae84a0a101e</td>\n",
       "      <td>Barkbox, Inc.</td>\n",
       "      <td>tinyurl.com</td>\n",
       "      <td>New York</td>\n",
       "      <td>ipo</td>\n",
       "      <td>Commerce and Shopping,Community and Lifestyle,...</td>\n",
       "      <td>6.0</td>\n",
       "      <td>2.817250e+08</td>\n",
       "      <td>2.817250e+08</td>\n",
       "      <td>...</td>\n",
       "      <td>http://www.linkedin.com/in/werdelin</td>\n",
       "      <td>http://twitter.com/werdelin</td>\n",
       "      <td>0</td>\n",
       "      <td>1</td>\n",
       "      <td>1</td>\n",
       "      <td>61.438531</td>\n",
       "      <td>45.906696</td>\n",
       "      <td>55.835480</td>\n",
       "      <td>56.377701</td>\n",
       "      <td>37.711411</td>\n",
       "    </tr>\n",
       "  </tbody>\n",
       "</table>\n",
       "<p>5 rows × 43 columns</p>\n",
       "</div>"
      ],
      "text/plain": [
       "   Unnamed: 0                       CB_company_uuid              legal_name  \\\n",
       "0          10  c2d47d05-9e78-de77-084c-dd5171251ff1             Asana, Inc.   \n",
       "1          31  9921555e-1f0c-9404-6e89-24bc1641085b        Xoom Corporation   \n",
       "2          45  1eb37109-3b93-01a9-177f-fee2cb1bfcdc  Uber Technologies Inc.   \n",
       "3          67  a2e8a0ad-43ff-2039-3784-e53026415bbc         Hatchlearn Inc.   \n",
       "4          78  4cb7db7b-0581-3c51-3ff1-8ae84a0a101e           Barkbox, Inc.   \n",
       "\n",
       "         domain           city    status  \\\n",
       "0     asana.com  San Francisco       ipo   \n",
       "1      xoom.com  San Francisco  acquired   \n",
       "2      uber.com  San Francisco       ipo   \n",
       "3  outlearn.com         Boston    closed   \n",
       "4   tinyurl.com       New York       ipo   \n",
       "\n",
       "                                category_groups_list  num_funding_rounds  \\\n",
       "0                                     Other,Software                13.0   \n",
       "1  Commerce and Shopping,Financial Services,Payments                 7.0   \n",
       "2                Apps,Mobile,Software,Transportation                33.0   \n",
       "3                                 Education,Software                 3.0   \n",
       "4  Commerce and Shopping,Community and Lifestyle,...                 6.0   \n",
       "\n",
       "   total_funding_usd  total_funding  ...  \\\n",
       "0       4.532000e+08   4.532000e+08  ...   \n",
       "1       1.043490e+08   1.043490e+08  ...   \n",
       "2       2.521245e+10   2.521245e+10  ...   \n",
       "3       4.049999e+06   4.049999e+06  ...   \n",
       "4       2.817250e+08   2.817250e+08  ...   \n",
       "\n",
       "                             linkedin_url                  twitter_url  \\\n",
       "0     https://www.linkedin.com/in/dmoskov    http://twitter.com/moskov   \n",
       "1        http://www.linkedin.com/in/alanb   http://twitter.com/alanb42   \n",
       "2  http://www.linkedin.com/in/garrettcamp       https://twitter.com/gc   \n",
       "3      http://www.linkedin.com/in/wkoffel   http://twitter.com/wkoffel   \n",
       "4     http://www.linkedin.com/in/werdelin  http://twitter.com/werdelin   \n",
       "\n",
       "  facebook_url_exists  linkedin_url_exists twitter_url_exists   openness  \\\n",
       "0                   1                    1                  1  63.370382   \n",
       "1                   1                    1                  1  37.613179   \n",
       "2                   1                    1                  1  51.419381   \n",
       "3                   1                    1                  1  44.990336   \n",
       "4                   0                    1                  1  61.438531   \n",
       "\n",
       "  conscientiousness extraversion  agreeableness  neuroticism  \n",
       "0         25.464822    37.577109      36.705432    53.540692  \n",
       "1         55.368255    57.353612      60.636094    33.727562  \n",
       "2         56.900714    58.511746      53.644787    39.680803  \n",
       "3         41.616432    46.410309      43.615215    53.623595  \n",
       "4         45.906696    55.835480      56.377701    37.711411  \n",
       "\n",
       "[5 rows x 43 columns]"
      ]
     },
     "execution_count": 5,
     "metadata": {},
     "output_type": "execute_result"
    }
   ],
   "source": [
    "data.head()"
   ]
  },
  {
   "cell_type": "code",
   "execution_count": 8,
   "metadata": {},
   "outputs": [],
   "source": [
    "data_cols_1 = [\"legal_name\",\"total_funding_usd\",\"openness\",\"conscientiousness\",\"extraversion\",\"agreeableness\",\"neuroticism\"]"
   ]
  },
  {
   "cell_type": "code",
   "execution_count": 28,
   "metadata": {},
   "outputs": [],
   "source": [
    "ocean = [\"openness\",\"conscientiousness\",\"extraversion\",\"agreeableness\",\"neuroticism\"]"
   ]
  },
  {
   "cell_type": "code",
   "execution_count": 9,
   "metadata": {},
   "outputs": [],
   "source": [
    "data1 = data[data_cols_1]"
   ]
  },
  {
   "cell_type": "code",
   "execution_count": null,
   "metadata": {},
   "outputs": [],
   "source": []
  },
  {
   "cell_type": "markdown",
   "metadata": {},
   "source": [
    "### Bottom and Top 10% analysis"
   ]
  },
  {
   "cell_type": "code",
   "execution_count": 19,
   "metadata": {},
   "outputs": [],
   "source": [
    "means_by_company = data1.groupby('legal_name').mean()"
   ]
  },
  {
   "cell_type": "code",
   "execution_count": 22,
   "metadata": {},
   "outputs": [],
   "source": [
    "means_by_company.dropna(how='any',inplace=True)"
   ]
  },
  {
   "cell_type": "code",
   "execution_count": 23,
   "metadata": {},
   "outputs": [
    {
     "data": {
      "text/html": [
       "<div>\n",
       "<style scoped>\n",
       "    .dataframe tbody tr th:only-of-type {\n",
       "        vertical-align: middle;\n",
       "    }\n",
       "\n",
       "    .dataframe tbody tr th {\n",
       "        vertical-align: top;\n",
       "    }\n",
       "\n",
       "    .dataframe thead th {\n",
       "        text-align: right;\n",
       "    }\n",
       "</style>\n",
       "<table border=\"1\" class=\"dataframe\">\n",
       "  <thead>\n",
       "    <tr style=\"text-align: right;\">\n",
       "      <th></th>\n",
       "      <th>total_funding_usd</th>\n",
       "      <th>openness</th>\n",
       "      <th>conscientiousness</th>\n",
       "      <th>extraversion</th>\n",
       "      <th>agreeableness</th>\n",
       "      <th>neuroticism</th>\n",
       "    </tr>\n",
       "    <tr>\n",
       "      <th>legal_name</th>\n",
       "      <th></th>\n",
       "      <th></th>\n",
       "      <th></th>\n",
       "      <th></th>\n",
       "      <th></th>\n",
       "      <th></th>\n",
       "    </tr>\n",
       "  </thead>\n",
       "  <tbody>\n",
       "    <tr>\n",
       "      <th>101 Edu, Inc.</th>\n",
       "      <td>6.874156e+06</td>\n",
       "      <td>51.142607</td>\n",
       "      <td>63.812120</td>\n",
       "      <td>74.244618</td>\n",
       "      <td>62.429866</td>\n",
       "      <td>25.550338</td>\n",
       "    </tr>\n",
       "    <tr>\n",
       "      <th>10X Genomics, Inc.</th>\n",
       "      <td>2.426000e+08</td>\n",
       "      <td>60.558633</td>\n",
       "      <td>47.150512</td>\n",
       "      <td>53.385385</td>\n",
       "      <td>52.991679</td>\n",
       "      <td>27.781925</td>\n",
       "    </tr>\n",
       "    <tr>\n",
       "      <th>11Sight, Inc.</th>\n",
       "      <td>2.300000e+06</td>\n",
       "      <td>63.483742</td>\n",
       "      <td>59.397327</td>\n",
       "      <td>71.308732</td>\n",
       "      <td>55.407733</td>\n",
       "      <td>23.553225</td>\n",
       "    </tr>\n",
       "    <tr>\n",
       "      <th>1eq Inc.</th>\n",
       "      <td>3.976045e+07</td>\n",
       "      <td>59.795681</td>\n",
       "      <td>52.765865</td>\n",
       "      <td>64.933493</td>\n",
       "      <td>67.578291</td>\n",
       "      <td>32.389326</td>\n",
       "    </tr>\n",
       "    <tr>\n",
       "      <th>23andMe, Inc.</th>\n",
       "      <td>1.118574e+09</td>\n",
       "      <td>53.071676</td>\n",
       "      <td>61.221187</td>\n",
       "      <td>66.669331</td>\n",
       "      <td>60.183432</td>\n",
       "      <td>35.655991</td>\n",
       "    </tr>\n",
       "  </tbody>\n",
       "</table>\n",
       "</div>"
      ],
      "text/plain": [
       "                    total_funding_usd   openness  conscientiousness  \\\n",
       "legal_name                                                            \n",
       "101 Edu, Inc.            6.874156e+06  51.142607          63.812120   \n",
       "10X Genomics, Inc.       2.426000e+08  60.558633          47.150512   \n",
       "11Sight, Inc.            2.300000e+06  63.483742          59.397327   \n",
       "1eq Inc.                 3.976045e+07  59.795681          52.765865   \n",
       "23andMe, Inc.            1.118574e+09  53.071676          61.221187   \n",
       "\n",
       "                    extraversion  agreeableness  neuroticism  \n",
       "legal_name                                                    \n",
       "101 Edu, Inc.          74.244618      62.429866    25.550338  \n",
       "10X Genomics, Inc.     53.385385      52.991679    27.781925  \n",
       "11Sight, Inc.          71.308732      55.407733    23.553225  \n",
       "1eq Inc.               64.933493      67.578291    32.389326  \n",
       "23andMe, Inc.          66.669331      60.183432    35.655991  "
      ]
     },
     "execution_count": 23,
     "metadata": {},
     "output_type": "execute_result"
    }
   ],
   "source": [
    "means_by_company.head()"
   ]
  },
  {
   "cell_type": "code",
   "execution_count": 25,
   "metadata": {},
   "outputs": [],
   "source": [
    "percentile_10_funding = means_by_company['total_funding_usd'].quantile(0.10)"
   ]
  },
  {
   "cell_type": "code",
   "execution_count": 27,
   "metadata": {},
   "outputs": [],
   "source": [
    "percentile_10_funding_df = means_by_company[means_by_company['total_funding_usd'] <= percentile_10_funding]"
   ]
  },
  {
   "cell_type": "code",
   "execution_count": 29,
   "metadata": {},
   "outputs": [],
   "source": [
    "percentile_10_ocean = percentile_10_funding_df[ocean].mean()"
   ]
  },
  {
   "cell_type": "code",
   "execution_count": 30,
   "metadata": {},
   "outputs": [
    {
     "data": {
      "text/plain": [
       "openness             48.539645\n",
       "conscientiousness    52.656781\n",
       "extraversion         60.548906\n",
       "agreeableness        55.410650\n",
       "neuroticism          35.564744\n",
       "dtype: float64"
      ]
     },
     "execution_count": 30,
     "metadata": {},
     "output_type": "execute_result"
    }
   ],
   "source": [
    "percentile_10_ocean\n"
   ]
  },
  {
   "cell_type": "code",
   "execution_count": 9,
   "metadata": {},
   "outputs": [],
   "source": []
  },
  {
   "cell_type": "code",
   "execution_count": 31,
   "metadata": {},
   "outputs": [],
   "source": [
    "percentile_90_funding = means_by_company['total_funding_usd'].quantile(0.90)\n",
    "percentile_90_funding_df = means_by_company[means_by_company['total_funding_usd'] <= percentile_90_funding]\n",
    "percentile_90_ocean = percentile_90_funding_df[ocean].mean()"
   ]
  },
  {
   "cell_type": "code",
   "execution_count": 32,
   "metadata": {},
   "outputs": [
    {
     "data": {
      "text/plain": [
       "openness             49.278449\n",
       "conscientiousness    52.228339\n",
       "extraversion         59.604094\n",
       "agreeableness        53.804185\n",
       "neuroticism          37.424757\n",
       "dtype: float64"
      ]
     },
     "execution_count": 32,
     "metadata": {},
     "output_type": "execute_result"
    }
   ],
   "source": [
    "percentile_90_ocean"
   ]
  },
  {
   "cell_type": "markdown",
   "metadata": {},
   "source": [
    "### Min and Max value Analysis"
   ]
  },
  {
   "cell_type": "code",
   "execution_count": 37,
   "metadata": {},
   "outputs": [],
   "source": [
    "min_openness_index = means_by_company['openness'].idxmin()\n",
    "min_openness_funding = means_by_company.loc[min_openness_index, 'total_funding_usd']"
   ]
  },
  {
   "cell_type": "code",
   "execution_count": 38,
   "metadata": {},
   "outputs": [
    {
     "data": {
      "text/plain": [
       "104825000.0"
      ]
     },
     "execution_count": 38,
     "metadata": {},
     "output_type": "execute_result"
    }
   ],
   "source": [
    "min_openness_funding"
   ]
  },
  {
   "cell_type": "code",
   "execution_count": 39,
   "metadata": {},
   "outputs": [],
   "source": [
    "max_openness_index = means_by_company['openness'].idxmax()\n",
    "max_openness_funding = means_by_company.loc[max_openness_index, 'total_funding_usd']"
   ]
  },
  {
   "cell_type": "code",
   "execution_count": 40,
   "metadata": {},
   "outputs": [
    {
     "data": {
      "text/plain": [
       "20000000.0"
      ]
     },
     "execution_count": 40,
     "metadata": {},
     "output_type": "execute_result"
    }
   ],
   "source": [
    "max_openness_funding"
   ]
  },
  {
   "cell_type": "code",
   "execution_count": 1,
   "metadata": {},
   "outputs": [
    {
     "ename": "SyntaxError",
     "evalue": "invalid syntax (<ipython-input-1-46cbd787b5a9>, line 1)",
     "output_type": "error",
     "traceback": [
      "\u001b[0;36m  File \u001b[0;32m\"<ipython-input-1-46cbd787b5a9>\"\u001b[0;36m, line \u001b[0;32m1\u001b[0m\n\u001b[0;31m    jupyter notebook list\u001b[0m\n\u001b[0m            ^\u001b[0m\n\u001b[0;31mSyntaxError\u001b[0m\u001b[0;31m:\u001b[0m invalid syntax\n"
     ]
    }
   ],
   "source": []
  },
  {
   "cell_type": "code",
   "execution_count": null,
   "metadata": {},
   "outputs": [],
   "source": []
  }
 ],
 "metadata": {
  "kernelspec": {
   "display_name": "Python 3",
   "language": "python",
   "name": "python3"
  },
  "language_info": {
   "codemirror_mode": {
    "name": "ipython",
    "version": 3
   },
   "file_extension": ".py",
   "mimetype": "text/x-python",
   "name": "python",
   "nbconvert_exporter": "python",
   "pygments_lexer": "ipython3",
   "version": "3.8.5"
  }
 },
 "nbformat": 4,
 "nbformat_minor": 4
}
